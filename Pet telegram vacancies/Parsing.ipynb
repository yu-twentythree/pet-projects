{
 "cells": [
  {
   "cell_type": "markdown",
   "metadata": {},
   "source": [
    "# Парсер вакансий "
   ]
  },
  {
   "cell_type": "markdown",
   "metadata": {},
   "source": [
    "*подготовила Смоленская Юлия*"
   ]
  },
  {
   "cell_type": "markdown",
   "metadata": {},
   "source": [
    "Дашборд\n",
    "\n",
    "https://datalens.yandex/co7o38nfdgbu3 "
   ]
  },
  {
   "cell_type": "markdown",
   "metadata": {},
   "source": [
    "## Декомпозиция"
   ]
  },
  {
   "cell_type": "markdown",
   "metadata": {},
   "source": [
    "\n",
    "**Цель исследования:** \n",
    "\n",
    "Составить портрет сотрудника DE, DS И DA с точки зрения образования, грейда, заработной платы , условий работы и возможностей релокации\n",
    "\n",
    "Необходимо выделить наиболее распространённый запрос работодателя под вакансии DE, DS И DA, включая требования к образованию и вузу, грейду и возрасту, в зависимости от размера компании, ее отрасли и условий труда. \n",
    "\n",
    "Для этого:\n",
    "- выделим сначала 3 специальности (DE, DS И DA)\n",
    "- По объявлениям для каждой специальности  выделим наиболее востребованные: образование и вуз (если есть)**, навыки, грейды, з-пл, формат\n",
    "- Далее рассмотрим эту информацию в разрезе размера компаний (Крупные компании, средние и стартапы)*\n",
    "\n",
    "Основными пользователями результатов анализа являются выпускники и учащиеся по специальностям DE, DS И DA.  На основе анализа соискатели смогут иметь представление о возможных вакансиях, на которые могут претендовать, и возможном работодателе или скорректировать планы на учебы.\n",
    "\n",
    "**Гипотезы:** \n",
    "\n",
    " - Чем выше Грейд, тем выше зарплата. Проверим влияют ли на уровень зарплаты опыт и навыки. \n",
    "Средняя зарплата варьируется в зависимости от специальности. Как изменяется зарплата между разными специальностями.\n",
    " - В зависимости от размера компании меняется запрос по специальности*. Какие компании более заинтересованы в аналитиках, какие - в инженерах, а какие - в дата саинтистах. \n",
    " - Количество вакансий в текущем году ниже, чем в предыдущем по всем специальностям. В связи с экономическими и геополитическими изменениями количество вакансий снизилось.\n",
    "\n",
    "**План:**\n",
    "\n",
    "1. Цель и сбор информации об источниках \n",
    "2. Декомпозиция и ревью\n",
    "3. Парсинг данных\n",
    "4. Предподготовка: \n",
    " - анализ текста и выделение заданных признаков (столбцы)\n",
    " - обработка пропусков \n",
    " - приведение к нужному типу данных\n",
    " - обработка дубликатов \n",
    " - работа с текстом \n",
    " - обработка  аномалий и выбросов \n",
    "5. Формирование общего датасета для каждой специальности\n",
    "6. Исследование: \n",
    "- распределение по параметрам по трем специальностям \n",
    " - навыки \n",
    " - грейды \n",
    " - Зарплата\n",
    " - формат\n",
    " - график\n",
    "- распределение по размеру компаний*: \n",
    " - навыки \n",
    " - грейды \n",
    " - Зарплата\n",
    " - формат\n",
    " - график\n",
    " - сферы\n",
    "7. Проверка гипотез\n",
    "- По трем специальностям подготовим: \n",
    " - распределение по параметрам по трем специальностям: образование и вуз (если есть), грейды, з-пл, релокации и др. условия\n",
    " - распределены зарплаты в зависимости от грейда и специальности (гипотеза 1 и 2)\n",
    "- По размеру компаний*:\n",
    " - Распределение специальностей (гипотеза 3) \n",
    "- Сравнить количество вакансий в текущий и предыдущий год\n",
    "8. Подготовка результатов\n",
    "9. Составление дашборда\n",
    "\n",
    "\n",
    "\n",
    "\\* пункты с разбивкой по размеру компаний будут реализованы при условии возможности их классификации\n",
    "\n",
    "\\** образование заменила на навыки"
   ]
  },
  {
   "cell_type": "markdown",
   "metadata": {},
   "source": [
    "## Подготовка данных"
   ]
  },
  {
   "cell_type": "code",
   "execution_count": 1,
   "metadata": {},
   "outputs": [
    {
     "name": "stderr",
     "output_type": "stream",
     "text": [
      "/var/folders/_5/zq6mlq6x11l0v2hqm6dfg2q80000gn/T/ipykernel_18759/205898754.py:9: DeprecationWarning: Importing display from IPython.core.display is deprecated since IPython 7.14, please import from IPython display\n",
      "  from IPython.core.display import display, HTML, clear_output\n",
      "/var/folders/_5/zq6mlq6x11l0v2hqm6dfg2q80000gn/T/ipykernel_18759/205898754.py:9: DeprecationWarning: Importing clear_output from IPython.core.display is deprecated since IPython 7.14, please import from IPython display\n",
      "  from IPython.core.display import display, HTML, clear_output\n"
     ]
    }
   ],
   "source": [
    "# Импорт библиотек\n",
    "import requests\n",
    "import numpy as np\n",
    "import os\n",
    "import pandas as pd\n",
    "import json\n",
    "from datetime import datetime\n",
    "import re\n",
    "from IPython.core.display import display, HTML, clear_output\n",
    "import ipywidgets as widgets\n",
    "from sklearn.feature_extraction.text import CountVectorizer\n",
    "from statistics import mean\n",
    "import matplotlib.pyplot as plt\n",
    "import seaborn as sns"
   ]
  },
  {
   "cell_type": "code",
   "execution_count": 2,
   "metadata": {},
   "outputs": [],
   "source": [
    "### Загрузим файл\n",
    "telegram = pd.read_csv('telegram.csv')"
   ]
  },
  {
   "cell_type": "code",
   "execution_count": 3,
   "metadata": {},
   "outputs": [
    {
     "name": "stdout",
     "output_type": "stream",
     "text": [
      "<class 'pandas.core.frame.DataFrame'>\n",
      "RangeIndex: 6035 entries, 0 to 6034\n",
      "Data columns (total 5 columns):\n",
      " #   Column      Non-Null Count  Dtype \n",
      "---  ------      --------------  ----- \n",
      " 0   chat        5036 non-null   object\n",
      " 1   message_id  6035 non-null   int64 \n",
      " 2   date        6035 non-null   object\n",
      " 3   text        5482 non-null   object\n",
      " 4   entities    5384 non-null   object\n",
      "dtypes: int64(1), object(4)\n",
      "memory usage: 235.9+ KB\n"
     ]
    }
   ],
   "source": [
    "# просмотрим информацию \n",
    "telegram.info()"
   ]
  },
  {
   "cell_type": "code",
   "execution_count": 4,
   "metadata": {},
   "outputs": [],
   "source": [
    "#сбросим индекс\n",
    "telegram = telegram.dropna().reset_index(drop=True) "
   ]
  },
  {
   "cell_type": "code",
   "execution_count": 5,
   "metadata": {},
   "outputs": [
    {
     "data": {
      "text/html": [
       "<div>\n",
       "<style scoped>\n",
       "    .dataframe tbody tr th:only-of-type {\n",
       "        vertical-align: middle;\n",
       "    }\n",
       "\n",
       "    .dataframe tbody tr th {\n",
       "        vertical-align: top;\n",
       "    }\n",
       "\n",
       "    .dataframe thead th {\n",
       "        text-align: right;\n",
       "    }\n",
       "</style>\n",
       "<table border=\"1\" class=\"dataframe\">\n",
       "  <thead>\n",
       "    <tr style=\"text-align: right;\">\n",
       "      <th></th>\n",
       "      <th>chat</th>\n",
       "      <th>message_id</th>\n",
       "      <th>date</th>\n",
       "      <th>text</th>\n",
       "      <th>entities</th>\n",
       "    </tr>\n",
       "  </thead>\n",
       "  <tbody>\n",
       "    <tr>\n",
       "      <th>0</th>\n",
       "      <td>{\\n    \"_\": \"Chat\",\\n    \"id\": -1001269328727,...</td>\n",
       "      <td>305</td>\n",
       "      <td>2022-09-21 11:17:48</td>\n",
       "      <td>#системный аналитик #вакансия \\n\\nФормат: удал...</td>\n",
       "      <td>[\\n    {\\n        \"_\": \"MessageEntity\",\\n     ...</td>\n",
       "    </tr>\n",
       "    <tr>\n",
       "      <th>1</th>\n",
       "      <td>{\\n    \"_\": \"Chat\",\\n    \"id\": -1001269328727,...</td>\n",
       "      <td>304</td>\n",
       "      <td>2022-09-21 08:49:51</td>\n",
       "      <td>#Вакансия \\nИщу аналитика (бизнес/системный) в...</td>\n",
       "      <td>[\\n    {\\n        \"_\": \"MessageEntity\",\\n     ...</td>\n",
       "    </tr>\n",
       "    <tr>\n",
       "      <th>2</th>\n",
       "      <td>{\\n    \"_\": \"Chat\",\\n    \"id\": -1001269328727,...</td>\n",
       "      <td>303</td>\n",
       "      <td>2022-09-14 22:47:26</td>\n",
       "      <td>#Вакансия #Junior #Middle #Senior #Python3 #уд...</td>\n",
       "      <td>[\\n    {\\n        \"_\": \"MessageEntity\",\\n     ...</td>\n",
       "    </tr>\n",
       "    <tr>\n",
       "      <th>3</th>\n",
       "      <td>{\\n    \"_\": \"Chat\",\\n    \"id\": -1001269328727,...</td>\n",
       "      <td>302</td>\n",
       "      <td>2022-09-05 15:03:49</td>\n",
       "      <td>#vacancy #вакансия #BI #Engineer #Tableau #Sen...</td>\n",
       "      <td>[\\n    {\\n        \"_\": \"MessageEntity\",\\n     ...</td>\n",
       "    </tr>\n",
       "    <tr>\n",
       "      <th>4</th>\n",
       "      <td>{\\n    \"_\": \"Chat\",\\n    \"id\": -1001269328727,...</td>\n",
       "      <td>299</td>\n",
       "      <td>2022-08-22 16:26:21</td>\n",
       "      <td>#работа #вакансия #data_manаger #data_analyst ...</td>\n",
       "      <td>[\\n    {\\n        \"_\": \"MessageEntity\",\\n     ...</td>\n",
       "    </tr>\n",
       "  </tbody>\n",
       "</table>\n",
       "</div>"
      ],
      "text/plain": [
       "                                                chat  message_id  \\\n",
       "0  {\\n    \"_\": \"Chat\",\\n    \"id\": -1001269328727,...         305   \n",
       "1  {\\n    \"_\": \"Chat\",\\n    \"id\": -1001269328727,...         304   \n",
       "2  {\\n    \"_\": \"Chat\",\\n    \"id\": -1001269328727,...         303   \n",
       "3  {\\n    \"_\": \"Chat\",\\n    \"id\": -1001269328727,...         302   \n",
       "4  {\\n    \"_\": \"Chat\",\\n    \"id\": -1001269328727,...         299   \n",
       "\n",
       "                  date                                               text  \\\n",
       "0  2022-09-21 11:17:48  #системный аналитик #вакансия \\n\\nФормат: удал...   \n",
       "1  2022-09-21 08:49:51  #Вакансия \\nИщу аналитика (бизнес/системный) в...   \n",
       "2  2022-09-14 22:47:26  #Вакансия #Junior #Middle #Senior #Python3 #уд...   \n",
       "3  2022-09-05 15:03:49  #vacancy #вакансия #BI #Engineer #Tableau #Sen...   \n",
       "4  2022-08-22 16:26:21  #работа #вакансия #data_manаger #data_analyst ...   \n",
       "\n",
       "                                            entities  \n",
       "0  [\\n    {\\n        \"_\": \"MessageEntity\",\\n     ...  \n",
       "1  [\\n    {\\n        \"_\": \"MessageEntity\",\\n     ...  \n",
       "2  [\\n    {\\n        \"_\": \"MessageEntity\",\\n     ...  \n",
       "3  [\\n    {\\n        \"_\": \"MessageEntity\",\\n     ...  \n",
       "4  [\\n    {\\n        \"_\": \"MessageEntity\",\\n     ...  "
      ]
     },
     "execution_count": 5,
     "metadata": {},
     "output_type": "execute_result"
    }
   ],
   "source": [
    "# проверим индексы\n",
    "telegram.head()"
   ]
  },
  {
   "cell_type": "code",
   "execution_count": 6,
   "metadata": {},
   "outputs": [
    {
     "name": "stdout",
     "output_type": "stream",
     "text": [
      "#вакансия #удаленка #аналитик #системныйаналитик #middle \n",
      "\n",
      "Системный аналитик (middle) \n",
      "Компания: ФГУП «ЗащитаИнфо Транс» \n",
      "Вилка по зп: 150-250 net \n",
      " \n",
      "Обязанности: \n",
      "\n",
      "• Участвовать в проектах по созданию крупных государственных информационных систем в транспортной отрасли. \n",
      "• Формировать и управлять требованиями к информационным системам. \n",
      "• Формировать технические спецификации для команд разработки и контролировать их реализацию. \n",
      "• Участвовать в проектировании ПО. \n",
      "• Проектировать реализацию интеграционного взаимодействия систем и сервисов. \n",
      "• Участвовать в формирование бэклога разработки. \n",
      "• Формировать модели данных и описывать структуру БД. \n",
      "• Участвовать в разработке документации (ТЗ, функциональных требований, технических условий, регламентов информационного взаимодействия, ПМИ, эксплуатационной документации). \n",
      "\n",
      "Требования: \n",
      "\n",
      "• Высшее техническое образование (законченное). \n",
      "• Опыт работы в области системного анализа от 2 лет.\n",
      "• Понимание жизненного цикла разработки программного обеспечения. \n",
      "• Опыт проектирования информационных систем. \n",
      "• Знание UML нотации и опыт построения моделей с ее использованием. \n",
      "• Знание методик проектирования БД, опыт описания потоков данных. \n",
      "• Владение JSON/XML/XSD. \n",
      "• Опыт написания проектной и технической документации. \n",
      "\n",
      "Условия: \n",
      "\n",
      "• Официальное оформление в соответствии с ТК РФ (оплата больничных и отпусков). \n",
      "• Дополнительное материальное вознаграждение к отпуску ежегодно. \n",
      "• График работы 5/2 (гибрид, удаленная работа), возможность выбрать время начала рабочего дня. \n",
      "• Возможность дополнительного обучения за счет компании и карьерного роста. \n",
      "• Уютный офис с зонами отдыха и кухней, комфортное рабочее место, офис находится в пешей доступности от метро Тульская на территории Даниловской Мануфактуры. \n",
      "\n",
      "Контакты: @dina_wm\n"
     ]
    }
   ],
   "source": [
    "# Посмотрим пример вакансии\n",
    "print(telegram.iloc[5]['text'])"
   ]
  },
  {
   "cell_type": "code",
   "execution_count": 7,
   "metadata": {},
   "outputs": [],
   "source": [
    "# Преобразуем дату\n",
    "telegram['date'] = pd.to_datetime(telegram['date'])"
   ]
  },
  {
   "cell_type": "code",
   "execution_count": 8,
   "metadata": {},
   "outputs": [
    {
     "name": "stderr",
     "output_type": "stream",
     "text": [
      "/var/folders/_5/zq6mlq6x11l0v2hqm6dfg2q80000gn/T/ipykernel_18759/3219322398.py:2: FutureWarning: Treating datetime data as categorical rather than numeric in `.describe` is deprecated and will be removed in a future version of pandas. Specify `datetime_is_numeric=True` to silence this warning and adopt the future behavior now.\n",
      "  telegram['date'].describe()\n"
     ]
    },
    {
     "data": {
      "text/plain": [
       "count                    4500\n",
       "unique                   4464\n",
       "top       2021-11-16 11:42:43\n",
       "freq                        5\n",
       "first     2019-03-14 20:57:38\n",
       "last      2022-09-28 11:05:09\n",
       "Name: date, dtype: object"
      ]
     },
     "execution_count": 8,
     "metadata": {},
     "output_type": "execute_result"
    }
   ],
   "source": [
    "# посмотрим диапазон дат\n",
    "telegram['date'].describe()"
   ]
  },
  {
   "cell_type": "markdown",
   "metadata": {},
   "source": [
    "#### Комментарий"
   ]
  },
  {
   "cell_type": "markdown",
   "metadata": {},
   "source": [
    "загружено 4500 строк в диапазоне дат с 2019-03-14 по 2022-09-28"
   ]
  },
  {
   "cell_type": "code",
   "execution_count": 9,
   "metadata": {},
   "outputs": [],
   "source": [
    "# Достанем из столбца чат в фомате json IDшник и название чата\n",
    "telegram[\"chat_id\"] = telegram[\"chat\"].apply(lambda x: json.loads(x)['id'])\n",
    "telegram[\"chat_title\"] = telegram[\"chat\"].apply(lambda x: json.loads(x)['title'])"
   ]
  },
  {
   "cell_type": "code",
   "execution_count": 10,
   "metadata": {},
   "outputs": [],
   "source": [
    "# оставим в описании только буквы, цифры и нужные символы\n",
    "telegram['text_clear'] = telegram['text'].apply(lambda x: re.sub(r'[^а-яёА-ЯЁa-zA-z0-9/$₽]', ' ', x.lower()))"
   ]
  },
  {
   "cell_type": "code",
   "execution_count": 11,
   "metadata": {},
   "outputs": [
    {
     "data": {
      "text/plain": [
       "548"
      ]
     },
     "execution_count": 11,
     "metadata": {},
     "output_type": "execute_result"
    }
   ],
   "source": [
    "# проверим повторы\n",
    "telegram['text_clear'].duplicated().sum()"
   ]
  },
  {
   "cell_type": "code",
   "execution_count": 12,
   "metadata": {},
   "outputs": [
    {
     "data": {
      "text/plain": [
       "0        системный аналитик  вакансия   формат  удалён...\n",
       "1        вакансия  ищу аналитика  бизнес/системный  в ...\n",
       "2        вакансия  junior  middle  senior  python3  уд...\n",
       "3        vacancy  вакансия  bi  engineer  tableau  sen...\n",
       "4        работа  вакансия  data_manаger  data_analyst ...\n",
       "                              ...                        \n",
       "3947    senior nlp engineer с амбициями стать сто  wat...\n",
       "3948     работа   удаленка  офис  вакансия  ml  datasc...\n",
       "3949     вакансия  dataanalyst  datascience  москва  f...\n",
       "3950      руководитель направления ds    150 270₽   вн...\n",
       "3951      владелец продукта    150 350₽   внушительные...\n",
       "Name: text_clear, Length: 3952, dtype: object"
      ]
     },
     "execution_count": 12,
     "metadata": {},
     "output_type": "execute_result"
    }
   ],
   "source": [
    "# удалим дубликаты\n",
    "telegram['text_clear'].drop_duplicates().reset_index(drop= True)"
   ]
  },
  {
   "cell_type": "markdown",
   "metadata": {},
   "source": [
    "## Создание новых признаков (столбцов)"
   ]
  },
  {
   "cell_type": "markdown",
   "metadata": {},
   "source": [
    "### Специальность"
   ]
  },
  {
   "cell_type": "code",
   "execution_count": 13,
   "metadata": {},
   "outputs": [],
   "source": [
    "ds = r'scien|саен|\\bds\\b'\n",
    "da = r'analyst|analysis|аналитик|aналитик|\\bda\\b'\n",
    "de = r'engineer|инженер|\\bde\\b'\n",
    "dev = r'разработч|developer'"
   ]
  },
  {
   "cell_type": "code",
   "execution_count": 14,
   "metadata": {},
   "outputs": [],
   "source": [
    "# напишем ф-ию для категоризации\n",
    "def spec(row):\n",
    "    if re.search(ds, row['text_clear']):\n",
    "        return 'ds'\n",
    "    elif re.search(da, row['text_clear']):\n",
    "        return 'da'\n",
    "    elif re.search(de, row['text_clear']):\n",
    "        return 'de'\n",
    "    elif re.search(dev, row['text_clear']):\n",
    "        return 'dev'\n",
    "    else:\n",
    "        return 'n/d'"
   ]
  },
  {
   "cell_type": "code",
   "execution_count": 15,
   "metadata": {},
   "outputs": [],
   "source": [
    "# применим функцию\n",
    "telegram['spec'] = telegram.apply(spec, axis = 1)"
   ]
  },
  {
   "cell_type": "code",
   "execution_count": 16,
   "metadata": {},
   "outputs": [
    {
     "data": {
      "text/plain": [
       "da     1883\n",
       "ds     1224\n",
       "de      640\n",
       "n/d     401\n",
       "dev     352\n",
       "Name: spec, dtype: int64"
      ]
     },
     "execution_count": 16,
     "metadata": {},
     "output_type": "execute_result"
    }
   ],
   "source": [
    "# проверим распределение специальностей\n",
    "telegram['spec'].value_counts()"
   ]
  },
  {
   "cell_type": "code",
   "execution_count": 17,
   "metadata": {},
   "outputs": [
    {
     "data": {
      "text/plain": [
       "69      n/d\n",
       "123     n/d\n",
       "199     n/d\n",
       "205     n/d\n",
       "222     n/d\n",
       "       ... \n",
       "4464    n/d\n",
       "4470    n/d\n",
       "4472    n/d\n",
       "4480    n/d\n",
       "4491    n/d\n",
       "Name: spec, Length: 401, dtype: object"
      ]
     },
     "execution_count": 17,
     "metadata": {},
     "output_type": "execute_result"
    }
   ],
   "source": [
    "telegram['spec'][telegram['spec'] == 'n/d']"
   ]
  },
  {
   "cell_type": "code",
   "execution_count": 18,
   "metadata": {},
   "outputs": [
    {
     "name": "stdout",
     "output_type": "stream",
     "text": [
      "контакт   adbul_3\n"
     ]
    }
   ],
   "source": [
    "print(telegram['text_clear'][4472])"
   ]
  },
  {
   "cell_type": "code",
   "execution_count": 19,
   "metadata": {},
   "outputs": [],
   "source": [
    "telegram['len'] = telegram['text_clear'].apply(lambda x: len(x.split()))"
   ]
  },
  {
   "cell_type": "code",
   "execution_count": 20,
   "metadata": {},
   "outputs": [
    {
     "data": {
      "text/plain": [
       "69      19\n",
       "265      5\n",
       "283      3\n",
       "321      3\n",
       "369     19\n",
       "        ..\n",
       "3537    16\n",
       "4135     3\n",
       "4303    11\n",
       "4464     2\n",
       "4472     2\n",
       "Name: len, Length: 306, dtype: int64"
      ]
     },
     "execution_count": 20,
     "metadata": {},
     "output_type": "execute_result"
    }
   ],
   "source": [
    "telegram['len'][telegram['len'] < 20]"
   ]
  },
  {
   "cell_type": "code",
   "execution_count": null,
   "metadata": {},
   "outputs": [],
   "source": []
  },
  {
   "cell_type": "code",
   "execution_count": 21,
   "metadata": {},
   "outputs": [
    {
     "data": {
      "text/plain": [
       "Int64Index([  69,  265,  283,  321,  369,  423,  444,  459,  485,  495,\n",
       "            ...\n",
       "            2998, 2999, 3009, 3474, 3488, 3537, 4135, 4303, 4464, 4472],\n",
       "           dtype='int64', length=306)"
      ]
     },
     "execution_count": 21,
     "metadata": {},
     "output_type": "execute_result"
    }
   ],
   "source": [
    "index = telegram['len'][telegram['len'] < 20].index\n",
    "index"
   ]
  },
  {
   "cell_type": "code",
   "execution_count": 22,
   "metadata": {},
   "outputs": [],
   "source": [
    "telegram = telegram.drop(index = index, axis = 0)"
   ]
  },
  {
   "cell_type": "code",
   "execution_count": 23,
   "metadata": {},
   "outputs": [],
   "source": [
    "index2 = telegram[telegram['spec'] == 'dev'].index\n",
    "index3 = telegram[telegram['spec'] == 'n/d'].index"
   ]
  },
  {
   "cell_type": "code",
   "execution_count": 24,
   "metadata": {},
   "outputs": [],
   "source": [
    "telegram = telegram.drop(index = index2, axis = 0)\n",
    "telegram = telegram.drop(index = index3, axis = 0)"
   ]
  },
  {
   "cell_type": "code",
   "execution_count": 25,
   "metadata": {},
   "outputs": [
    {
     "name": "stdout",
     "output_type": "stream",
     "text": [
      "<class 'pandas.core.frame.DataFrame'>\n",
      "RangeIndex: 3512 entries, 0 to 3511\n",
      "Data columns (total 10 columns):\n",
      " #   Column      Non-Null Count  Dtype         \n",
      "---  ------      --------------  -----         \n",
      " 0   chat        3512 non-null   object        \n",
      " 1   message_id  3512 non-null   int64         \n",
      " 2   date        3512 non-null   datetime64[ns]\n",
      " 3   text        3512 non-null   object        \n",
      " 4   entities    3512 non-null   object        \n",
      " 5   chat_id     3512 non-null   int64         \n",
      " 6   chat_title  3512 non-null   object        \n",
      " 7   text_clear  3512 non-null   object        \n",
      " 8   spec        3512 non-null   object        \n",
      " 9   len         3512 non-null   int64         \n",
      "dtypes: datetime64[ns](1), int64(3), object(6)\n",
      "memory usage: 274.5+ KB\n"
     ]
    }
   ],
   "source": [
    "telegram = telegram.reset_index(drop = True)\n",
    "telegram.info()"
   ]
  },
  {
   "cell_type": "code",
   "execution_count": 26,
   "metadata": {},
   "outputs": [
    {
     "data": {
      "text/plain": [
       "da    1771\n",
       "ds    1122\n",
       "de     619\n",
       "Name: spec, dtype: int64"
      ]
     },
     "execution_count": 26,
     "metadata": {},
     "output_type": "execute_result"
    }
   ],
   "source": [
    "# проверим распределение специальностей\n",
    "telegram['spec'].value_counts()"
   ]
  },
  {
   "cell_type": "markdown",
   "metadata": {},
   "source": [
    "#### Комментарий"
   ]
  },
  {
   "cell_type": "markdown",
   "metadata": {},
   "source": [
    "После разделения вакансий по специальностям выделено DS - 1122, DA - 1771, DE - 619. При этом есть вакансии разработчиков 349, а также не определены 333."
   ]
  },
  {
   "cell_type": "markdown",
   "metadata": {},
   "source": [
    "### Степень"
   ]
  },
  {
   "cell_type": "code",
   "execution_count": 27,
   "metadata": {},
   "outputs": [],
   "source": [
    "grade = r'junior|senior|middle|сеньор|джун|мидл'"
   ]
  },
  {
   "cell_type": "code",
   "execution_count": 28,
   "metadata": {},
   "outputs": [],
   "source": [
    "telegram['grade_list'] = telegram['text_clear'].apply(lambda x: re.search(grade ,x))\n",
    "telegram['grade'] = telegram['grade_list'].apply(lambda x: x.group(0) if x != None else 'None')"
   ]
  },
  {
   "cell_type": "code",
   "execution_count": 29,
   "metadata": {},
   "outputs": [
    {
     "data": {
      "text/plain": [
       "None      2344\n",
       "senior     457\n",
       "middle     418\n",
       "junior     259\n",
       "джун        21\n",
       "мидл        10\n",
       "сеньор       3\n",
       "Name: grade, dtype: int64"
      ]
     },
     "execution_count": 29,
     "metadata": {},
     "output_type": "execute_result"
    }
   ],
   "source": [
    "telegram['grade'].value_counts()"
   ]
  },
  {
   "cell_type": "code",
   "execution_count": 30,
   "metadata": {},
   "outputs": [
    {
     "name": "stderr",
     "output_type": "stream",
     "text": [
      "/var/folders/_5/zq6mlq6x11l0v2hqm6dfg2q80000gn/T/ipykernel_18759/3545731645.py:1: SettingWithCopyWarning: \n",
      "A value is trying to be set on a copy of a slice from a DataFrame\n",
      "\n",
      "See the caveats in the documentation: https://pandas.pydata.org/pandas-docs/stable/user_guide/indexing.html#returning-a-view-versus-a-copy\n",
      "  telegram['grade'][telegram['grade'] == 'джун'] = 'junior'\n",
      "/var/folders/_5/zq6mlq6x11l0v2hqm6dfg2q80000gn/T/ipykernel_18759/3545731645.py:2: SettingWithCopyWarning: \n",
      "A value is trying to be set on a copy of a slice from a DataFrame\n",
      "\n",
      "See the caveats in the documentation: https://pandas.pydata.org/pandas-docs/stable/user_guide/indexing.html#returning-a-view-versus-a-copy\n",
      "  telegram['grade'][telegram['grade'] == 'мидл'] = 'middle'\n",
      "/var/folders/_5/zq6mlq6x11l0v2hqm6dfg2q80000gn/T/ipykernel_18759/3545731645.py:3: SettingWithCopyWarning: \n",
      "A value is trying to be set on a copy of a slice from a DataFrame\n",
      "\n",
      "See the caveats in the documentation: https://pandas.pydata.org/pandas-docs/stable/user_guide/indexing.html#returning-a-view-versus-a-copy\n",
      "  telegram['grade'][telegram['grade'] == 'сеньор'] = 'senior'\n"
     ]
    }
   ],
   "source": [
    "telegram['grade'][telegram['grade'] == 'джун'] = 'junior'\n",
    "telegram['grade'][telegram['grade'] == 'мидл'] = 'middle'\n",
    "telegram['grade'][telegram['grade'] == 'сеньор'] = 'senior'"
   ]
  },
  {
   "cell_type": "markdown",
   "metadata": {},
   "source": [
    "#### Комментарий"
   ]
  },
  {
   "cell_type": "markdown",
   "metadata": {},
   "source": [
    "Степень выделена для 1339 вакансий, оценим тогда требуемый опыт."
   ]
  },
  {
   "cell_type": "markdown",
   "metadata": {},
   "source": [
    "### Опыт"
   ]
  },
  {
   "cell_type": "code",
   "execution_count": 31,
   "metadata": {},
   "outputs": [],
   "source": [
    "exp = r'\\b\\d(?:\\s*|х)\\s*(?:лет|years)|от (?:года|двух|трех|четырех|пяти)|от\\s*\\b\\dх'"
   ]
  },
  {
   "cell_type": "code",
   "execution_count": 32,
   "metadata": {},
   "outputs": [],
   "source": [
    "telegram['exp'] = telegram['text_clear'].apply(lambda x: \" \".join(re.findall(exp ,x)))"
   ]
  },
  {
   "cell_type": "code",
   "execution_count": 33,
   "metadata": {},
   "outputs": [
    {
     "data": {
      "text/plain": [
       "0             от 2х\n",
       "1             3 лет\n",
       "2        от четырех\n",
       "3             от 3х\n",
       "4             2 лет\n",
       "           ...     \n",
       "3507               \n",
       "3508          5 лет\n",
       "3509        от года\n",
       "3510    2 лет 5 лет\n",
       "3511          3 лет\n",
       "Name: exp, Length: 3512, dtype: object"
      ]
     },
     "execution_count": 33,
     "metadata": {},
     "output_type": "execute_result"
    }
   ],
   "source": [
    "telegram['exp']"
   ]
  },
  {
   "cell_type": "code",
   "execution_count": 34,
   "metadata": {},
   "outputs": [
    {
     "data": {
      "text/plain": [
       "0             от 2х\n",
       "1             3 лет\n",
       "3             от 3х\n",
       "5             2 лет\n",
       "28            3 лет\n",
       "           ...     \n",
       "3505        3 years\n",
       "3508          5 лет\n",
       "3509        от года\n",
       "3510    2 лет 5 лет\n",
       "3511          3 лет\n",
       "Name: exp, Length: 391, dtype: object"
      ]
     },
     "execution_count": 34,
     "metadata": {},
     "output_type": "execute_result"
    }
   ],
   "source": [
    "telegram['exp'][(telegram['exp'] != '') & (telegram['grade']== 'None')]"
   ]
  },
  {
   "cell_type": "code",
   "execution_count": 35,
   "metadata": {},
   "outputs": [],
   "source": [
    "jun = r'1|2|года'\n",
    "mid = r'3|4|двух|трех|четырех|5|пяти'\n",
    "sen = r'6|7|8|9'"
   ]
  },
  {
   "cell_type": "code",
   "execution_count": 36,
   "metadata": {},
   "outputs": [],
   "source": [
    "telegram['exp_grade'] = telegram['exp'].apply(lambda x: 'junior' if re.search(jun, x) else x)\n",
    "telegram['exp_grade'] = telegram['exp_grade'].apply(lambda x: 'middle' if re.search(mid, x) else x)\n",
    "telegram['exp_grade'] = telegram['exp_grade'].apply(lambda x: 'senior' if re.search(sen, x) else x)"
   ]
  },
  {
   "cell_type": "code",
   "execution_count": 37,
   "metadata": {},
   "outputs": [
    {
     "name": "stderr",
     "output_type": "stream",
     "text": [
      "/var/folders/_5/zq6mlq6x11l0v2hqm6dfg2q80000gn/T/ipykernel_18759/667645189.py:1: SettingWithCopyWarning: \n",
      "A value is trying to be set on a copy of a slice from a DataFrame\n",
      "\n",
      "See the caveats in the documentation: https://pandas.pydata.org/pandas-docs/stable/user_guide/indexing.html#returning-a-view-versus-a-copy\n",
      "  telegram['grade'][(telegram['exp'] != '') & (telegram['grade']== 'None')] = telegram['exp_grade']\n"
     ]
    }
   ],
   "source": [
    "telegram['grade'][(telegram['exp'] != '') & (telegram['grade']== 'None')] = telegram['exp_grade']"
   ]
  },
  {
   "cell_type": "code",
   "execution_count": 38,
   "metadata": {},
   "outputs": [
    {
     "data": {
      "text/plain": [
       "None      1953\n",
       "middle     616\n",
       "senior     479\n",
       "junior     464\n",
       "Name: grade, dtype: int64"
      ]
     },
     "execution_count": 38,
     "metadata": {},
     "output_type": "execute_result"
    }
   ],
   "source": [
    "telegram['grade'].value_counts()"
   ]
  },
  {
   "cell_type": "markdown",
   "metadata": {},
   "source": [
    "#### Комментарий"
   ]
  },
  {
   "cell_type": "markdown",
   "metadata": {},
   "source": [
    "Получен опыт для 695 вакансий, из них 457 возможно использовать для заполнения грейда"
   ]
  },
  {
   "cell_type": "markdown",
   "metadata": {},
   "source": [
    "### Формат"
   ]
  },
  {
   "cell_type": "code",
   "execution_count": 165,
   "metadata": {},
   "outputs": [],
   "source": [
    "format=r'удаленно|удалённо|удаленный|удаленка|удалёнка|гибрид|дистанц|remote work|remote|офис|офисе'"
   ]
  },
  {
   "cell_type": "code",
   "execution_count": 166,
   "metadata": {},
   "outputs": [],
   "source": [
    "telegram['format'] = telegram['text_clear'].apply(lambda x: \" \".join(re.findall(format ,x)))"
   ]
  },
  {
   "cell_type": "code",
   "execution_count": 167,
   "metadata": {},
   "outputs": [
    {
     "data": {
      "text/plain": [
       "0    удалённо гибрид удаленка гибрид офис\n",
       "1                                удаленно\n",
       "2                удаленно remote удаленно\n",
       "3                               офис офис\n",
       "4               удаленка гибрид офис офис\n",
       "5                                  remote\n",
       "6                             remote work\n",
       "7    remote удаленка remote удаленно офис\n",
       "8          удаленно удаленный офис гибрид\n",
       "9                                        \n",
       "Name: format, dtype: object"
      ]
     },
     "execution_count": 167,
     "metadata": {},
     "output_type": "execute_result"
    }
   ],
   "source": [
    "telegram['format'].head(10)"
   ]
  },
  {
   "cell_type": "code",
   "execution_count": 168,
   "metadata": {},
   "outputs": [
    {
     "name": "stderr",
     "output_type": "stream",
     "text": [
      "/var/folders/_5/zq6mlq6x11l0v2hqm6dfg2q80000gn/T/ipykernel_18759/1889295229.py:1: SettingWithCopyWarning: \n",
      "A value is trying to be set on a copy of a slice from a DataFrame\n",
      "\n",
      "See the caveats in the documentation: https://pandas.pydata.org/pandas-docs/stable/user_guide/indexing.html#returning-a-view-versus-a-copy\n",
      "  telegram['format'][telegram['format'] == ''] = 'офис'\n"
     ]
    }
   ],
   "source": [
    "telegram['format'][telegram['format'] == ''] = 'офис'"
   ]
  },
  {
   "cell_type": "code",
   "execution_count": 169,
   "metadata": {},
   "outputs": [],
   "source": [
    "remote = r'удал|remote|дистанц'\n",
    "telegram['remote'] = telegram['format'].apply(lambda x: True if re.search(remote, x) else False)"
   ]
  },
  {
   "cell_type": "code",
   "execution_count": 170,
   "metadata": {},
   "outputs": [],
   "source": [
    "office = r'офис'\n",
    "telegram['office'] = telegram['format'].apply(lambda x: True if re.search(office, x) else False)"
   ]
  },
  {
   "cell_type": "code",
   "execution_count": 171,
   "metadata": {},
   "outputs": [],
   "source": [
    "hybrid = r'hybrid|гибрид'\n",
    "telegram['hybrid'] = telegram['format'].apply(lambda x: True if re.search(hybrid, x) else False)"
   ]
  },
  {
   "cell_type": "code",
   "execution_count": 172,
   "metadata": {},
   "outputs": [],
   "source": [
    "def format(row):\n",
    "    if row['remote'] == True:\n",
    "        return 'remote'\n",
    "    elif row['office'] == True:\n",
    "        return 'office'\n",
    "    elif row['hybrid'] == True:\n",
    "        return 'hybrid'"
   ]
  },
  {
   "cell_type": "code",
   "execution_count": 174,
   "metadata": {},
   "outputs": [],
   "source": [
    "telegram['format_work'] = telegram.apply(format, axis = 1)"
   ]
  },
  {
   "cell_type": "code",
   "execution_count": 176,
   "metadata": {},
   "outputs": [
    {
     "data": {
      "text/plain": [
       "0"
      ]
     },
     "execution_count": 176,
     "metadata": {},
     "output_type": "execute_result"
    }
   ],
   "source": [
    "telegram['format_work'].isna().sum()"
   ]
  },
  {
   "cell_type": "markdown",
   "metadata": {},
   "source": [
    "#### Комментарий"
   ]
  },
  {
   "cell_type": "markdown",
   "metadata": {},
   "source": [
    "в полученных данных не хватает 1589 позиций, возможно предположить, что подраземевается стандартный формат работы в офисе"
   ]
  },
  {
   "cell_type": "markdown",
   "metadata": {},
   "source": [
    "### График"
   ]
  },
  {
   "cell_type": "code",
   "execution_count": 46,
   "metadata": {},
   "outputs": [],
   "source": [
    "day = r'занятость\\s*полная|возможность выбрать время начала|гибкий график|работа в офисе|полный день|полный рабочий день|не полный день|не полный рабочий день|5/2|part-time|part time|full time|full-time'"
   ]
  },
  {
   "cell_type": "code",
   "execution_count": 47,
   "metadata": {},
   "outputs": [],
   "source": [
    "telegram['day'] = telegram['text_clear'].apply(lambda x: \" \".join(re.findall(day ,x)))"
   ]
  },
  {
   "cell_type": "code",
   "execution_count": 48,
   "metadata": {},
   "outputs": [
    {
     "data": {
      "text/plain": [
       "0                       занятость  полная\n",
       "1                           гибкий график\n",
       "2               полный день гибкий график\n",
       "3                      работа в офисе 5/2\n",
       "4    5/2 возможность выбрать время начала\n",
       "5                                        \n",
       "6                           part time 5/2\n",
       "7                                        \n",
       "8         занятость  полная гибкий график\n",
       "9                                        \n",
       "Name: day, dtype: object"
      ]
     },
     "execution_count": 48,
     "metadata": {},
     "output_type": "execute_result"
    }
   ],
   "source": [
    "telegram['day'].head(10)"
   ]
  },
  {
   "cell_type": "code",
   "execution_count": 49,
   "metadata": {},
   "outputs": [
    {
     "data": {
      "text/plain": [
       "2497"
      ]
     },
     "execution_count": 49,
     "metadata": {},
     "output_type": "execute_result"
    }
   ],
   "source": [
    "telegram['day'][telegram['day'] == ''].count()"
   ]
  },
  {
   "cell_type": "code",
   "execution_count": 50,
   "metadata": {},
   "outputs": [
    {
     "name": "stderr",
     "output_type": "stream",
     "text": [
      "/var/folders/_5/zq6mlq6x11l0v2hqm6dfg2q80000gn/T/ipykernel_18759/3299683051.py:1: SettingWithCopyWarning: \n",
      "A value is trying to be set on a copy of a slice from a DataFrame\n",
      "\n",
      "See the caveats in the documentation: https://pandas.pydata.org/pandas-docs/stable/user_guide/indexing.html#returning-a-view-versus-a-copy\n",
      "  telegram['day'][telegram['day'] == ''] = 'полный день 5/2 '\n"
     ]
    }
   ],
   "source": [
    "telegram['day'][telegram['day'] == ''] = 'полный день 5/2 '"
   ]
  },
  {
   "cell_type": "code",
   "execution_count": 51,
   "metadata": {},
   "outputs": [],
   "source": [
    "full = r'full|полн'\n",
    "part = r'part|част'\n"
   ]
  },
  {
   "cell_type": "code",
   "execution_count": 52,
   "metadata": {},
   "outputs": [],
   "source": [
    "def day_sort(row):\n",
    "    if re.search(full, row['day']):\n",
    "        return 'full'\n",
    "    elif re.search(part, row['day']):\n",
    "        return 'part'\n",
    "    else:\n",
    "        return 'n/d'"
   ]
  },
  {
   "cell_type": "code",
   "execution_count": 53,
   "metadata": {},
   "outputs": [],
   "source": [
    "telegram['schedule'] = telegram.apply(day_sort, axis = 1)"
   ]
  },
  {
   "cell_type": "code",
   "execution_count": 54,
   "metadata": {},
   "outputs": [
    {
     "data": {
      "text/plain": [
       "full    3057\n",
       "n/d      418\n",
       "part      37\n",
       "Name: schedule, dtype: int64"
      ]
     },
     "execution_count": 54,
     "metadata": {},
     "output_type": "execute_result"
    }
   ],
   "source": [
    "telegram['schedule'].value_counts()"
   ]
  },
  {
   "cell_type": "markdown",
   "metadata": {},
   "source": [
    "#### Комментарий"
   ]
  },
  {
   "cell_type": "markdown",
   "metadata": {},
   "source": [
    "в полученных данных не хватает 3024 позиций, возможно предположить, что подраземевается стандартный график работы: полный день 5/2"
   ]
  },
  {
   "cell_type": "markdown",
   "metadata": {},
   "source": [
    "### Топовые компании"
   ]
  },
  {
   "cell_type": "code",
   "execution_count": 55,
   "metadata": {},
   "outputs": [],
   "source": [
    "### Загрузим файл со списком топ 100 компаний\n",
    "companies = pd.read_csv('companies.csv', sep=';')"
   ]
  },
  {
   "cell_type": "code",
   "execution_count": 56,
   "metadata": {},
   "outputs": [
    {
     "name": "stdout",
     "output_type": "stream",
     "text": [
      "<class 'pandas.core.frame.DataFrame'>\n",
      "RangeIndex: 600 entries, 0 to 599\n",
      "Data columns (total 3 columns):\n",
      " #   Column                      Non-Null Count  Dtype \n",
      "---  ------                      --------------  ----- \n",
      " 0   Место по итогам 2020 года   600 non-null    int64 \n",
      " 1   Группа компаний / компания  600 non-null    object\n",
      " 2   Отрасль                     600 non-null    object\n",
      "dtypes: int64(1), object(2)\n",
      "memory usage: 14.2+ KB\n"
     ]
    }
   ],
   "source": [
    "companies.info()"
   ]
  },
  {
   "cell_type": "code",
   "execution_count": 57,
   "metadata": {},
   "outputs": [],
   "source": [
    "companies=companies.rename(columns={'Место по итогам 2020 года':'num', \n",
    "                                    'Группа компаний / компания':'name',\n",
    "                                   'Отрасль':'sector'})"
   ]
  },
  {
   "cell_type": "code",
   "execution_count": 58,
   "metadata": {},
   "outputs": [
    {
     "data": {
      "text/plain": [
       "оптовая торговля                                                     143\n",
       "розничная торговля                                                    70\n",
       "машиностроение                                                        35\n",
       "транспорт и логистика                                                 34\n",
       "банки                                                                 28\n",
       "нефтяная и нефтегазовая промышленность                                27\n",
       "пищевая промышленность                                                27\n",
       "химическая и нефтехимическая промышленность                           24\n",
       "инжиниринг, промышленно-инфраструктурное строительство                20\n",
       "цветная металлургия                                                   17\n",
       "черная металлургия                                                    16\n",
       "электроэнергетика                                                     16\n",
       "строительство                                                         15\n",
       "энергосбытовая деятельность                                           14\n",
       "агропромышленный комплекс                                             11\n",
       "угольная промышленность                                               10\n",
       "информационные технологии                                              9\n",
       "сервисные компании                                                     8\n",
       "страхование                                                            7\n",
       "промышленность драгоценных металлов и алмазов                          7\n",
       "телекоммуникации и связь                                               7\n",
       "табачная промышленность                                                6\n",
       "фармацевтическая промышленность                                        5\n",
       "сфера развлечений                                                      4\n",
       "негосударственный пенсионный фонд                                      4\n",
       "жилищно-коммунальное хозяйство                                         4\n",
       "интернет-сервис                                                        4\n",
       "промышленность строительных материалов                                 4\n",
       "лесная, деревообрабатывающая и целлюлозно-бумажная промышленность      4\n",
       "многоотраслевые холдинги                                               3\n",
       "СМИ                                                                    3\n",
       "лизинг                                                                 2\n",
       "платежный сервис                                                       2\n",
       "общественное питание                                                   2\n",
       "тара и упаковка                                                        2\n",
       "парфюмерия и косметика                                                 1\n",
       "коммерческая недвижимость                                              1\n",
       "полиграфическая промышленность                                         1\n",
       "легкая промышленность                                                  1\n",
       "охранные услуги                                                        1\n",
       "космонавтика                                                           1\n",
       "Name: sector, dtype: int64"
      ]
     },
     "execution_count": 58,
     "metadata": {},
     "output_type": "execute_result"
    }
   ],
   "source": [
    "companies['sector'].value_counts()"
   ]
  },
  {
   "cell_type": "code",
   "execution_count": 59,
   "metadata": {},
   "outputs": [],
   "source": [
    "companies['name_clear'] = companies['name'].apply(lambda x: re.sub(r'[^а-яёА-ЯЁa-zA-z0-9]', ' ', x.lower()))\n",
    "companies['name_clear'] = companies['name_clear'].apply(lambda x: re.sub(r'(\\s*)нефтяная компания(\\s*)|(\\s*)розничная сеть(\\s*)|(\\s*)сеть гипермаркетов(\\s*)|(\\s*)государственная(\\s*)|(\\s*)россия(\\s*)|(\\s*)россии(\\s*)|(\\s*)горно металлургическая(\\s*)|группа компаний(\\s*)|(\\s*)группа(\\s*)|(\\s*)пао(\\s*)|(\\s*)объединенная компания(\\s*)|(\\s*)российские авиалинии(\\s*)|(\\s*)гуп(\\s*)|(\\s*)охк(\\s*)|(\\s*)компания(\\s*)|(\\s*)корпорация(\\s*)|(\\s*)авиакомпания(\\s*)|(\\s*)строительный торговый дом(\\s*)|(\\s*)фгуп(\\s*)|(\\s*)завод(\\s*)|(\\s*)торгово финансовый дом(\\s*)|(\\s*)магазины zarina  befree  love republic  sela(\\s*)|(\\s*)оптовая торговля(\\s*)|(\\s*)карс(\\s*)|(\\s*)торговая(\\s*)', '', x))\n",
    "companies['name_clear'] = companies['name_clear'].apply(lambda x: re.sub(r\"^\\s+\", \"\", x))\n",
    "companies['name_clear'] = companies['name_clear'].apply(lambda x: re.sub(r\"\\s+$\", \"\", x))"
   ]
  },
  {
   "cell_type": "code",
   "execution_count": 60,
   "metadata": {},
   "outputs": [
    {
     "data": {
      "text/plain": [
       "0     газпром\n",
       "1      лукойл\n",
       "2    роснефть\n",
       "3    сбербанк\n",
       "4         ржд\n",
       "5    x5 group\n",
       "6      ростех\n",
       "7      магнит\n",
       "8         втб\n",
       "9     росатом\n",
       "Name: name_clear, dtype: object"
      ]
     },
     "execution_count": 60,
     "metadata": {},
     "output_type": "execute_result"
    }
   ],
   "source": [
    "companies['name_clear'].head(10)"
   ]
  },
  {
   "cell_type": "code",
   "execution_count": 61,
   "metadata": {},
   "outputs": [],
   "source": [
    "list_top_100 = companies['name_clear'].head(100).tolist()"
   ]
  },
  {
   "cell_type": "code",
   "execution_count": 62,
   "metadata": {},
   "outputs": [
    {
     "data": {
      "text/plain": [
       "['газпром',\n",
       " 'лукойл',\n",
       " 'роснефть',\n",
       " 'сбербанк',\n",
       " 'ржд',\n",
       " 'x5 group',\n",
       " 'ростех',\n",
       " 'магнит',\n",
       " 'втб']"
      ]
     },
     "execution_count": 62,
     "metadata": {},
     "output_type": "execute_result"
    }
   ],
   "source": [
    "list_top_100[:9]"
   ]
  },
  {
   "cell_type": "code",
   "execution_count": 63,
   "metadata": {},
   "outputs": [],
   "source": [
    "telegram['top'] = telegram['text_clear'].str.contains('|'.join(list_top_100))"
   ]
  },
  {
   "cell_type": "code",
   "execution_count": 64,
   "metadata": {},
   "outputs": [
    {
     "data": {
      "text/plain": [
       "False    2575\n",
       "True      937\n",
       "Name: top, dtype: int64"
      ]
     },
     "execution_count": 64,
     "metadata": {},
     "output_type": "execute_result"
    }
   ],
   "source": [
    "telegram['top'].value_counts()"
   ]
  },
  {
   "cell_type": "markdown",
   "metadata": {},
   "source": [
    "#### Комментарий"
   ]
  },
  {
   "cell_type": "markdown",
   "metadata": {},
   "source": [
    "Вакансий от топовых компаний 1154"
   ]
  },
  {
   "cell_type": "markdown",
   "metadata": {},
   "source": [
    "### Cтартапы"
   ]
  },
  {
   "cell_type": "code",
   "execution_count": 65,
   "metadata": {},
   "outputs": [],
   "source": [
    "startup = r'стартап|startup|старт ап|start up'"
   ]
  },
  {
   "cell_type": "code",
   "execution_count": 66,
   "metadata": {},
   "outputs": [],
   "source": [
    "telegram['startup'] = telegram['text_clear'].apply(lambda x: True if re.search(startup, x) else False)\n"
   ]
  },
  {
   "cell_type": "code",
   "execution_count": 67,
   "metadata": {},
   "outputs": [
    {
     "data": {
      "text/plain": [
       "False    3310\n",
       "True      202\n",
       "Name: startup, dtype: int64"
      ]
     },
     "execution_count": 67,
     "metadata": {},
     "output_type": "execute_result"
    }
   ],
   "source": [
    "telegram['startup'].value_counts()"
   ]
  },
  {
   "cell_type": "code",
   "execution_count": 68,
   "metadata": {},
   "outputs": [
    {
     "data": {
      "text/plain": [
       "Int64Index([  19,   36,   56,  188,  204,  644,  678,  700,  728,  807,  816,\n",
       "             820,  821,  859,  894,  917, 1057, 1345, 1485, 2152, 2368, 2387,\n",
       "            2393, 2398, 2407, 2431, 2493, 2512, 2593, 2718, 2721, 2763, 2861,\n",
       "            2883, 2888, 2919, 2974, 3007, 3012, 3017, 3028, 3042, 3086, 3233,\n",
       "            3308, 3315, 3316, 3350, 3393, 3456, 3464, 3470, 3506],\n",
       "           dtype='int64')"
      ]
     },
     "execution_count": 68,
     "metadata": {},
     "output_type": "execute_result"
    }
   ],
   "source": [
    "telegram[(telegram['startup']) & (telegram['top'])].index"
   ]
  },
  {
   "cell_type": "code",
   "execution_count": 69,
   "metadata": {},
   "outputs": [
    {
     "name": "stderr",
     "output_type": "stream",
     "text": [
      "/var/folders/_5/zq6mlq6x11l0v2hqm6dfg2q80000gn/T/ipykernel_18759/4115408267.py:1: SettingWithCopyWarning: \n",
      "A value is trying to be set on a copy of a slice from a DataFrame\n",
      "\n",
      "See the caveats in the documentation: https://pandas.pydata.org/pandas-docs/stable/user_guide/indexing.html#returning-a-view-versus-a-copy\n",
      "  telegram['top'][(telegram['startup']) & (telegram['top'])] = False\n"
     ]
    }
   ],
   "source": [
    "telegram['top'][(telegram['startup']) & (telegram['top'])] = False"
   ]
  },
  {
   "cell_type": "code",
   "execution_count": 177,
   "metadata": {},
   "outputs": [],
   "source": [
    "def comp(row):\n",
    "    if row['top'] == True:\n",
    "        return 'top'\n",
    "    elif row['startup'] == True:\n",
    "        return 'startup'\n",
    "    else:\n",
    "        return 'other'"
   ]
  },
  {
   "cell_type": "code",
   "execution_count": 178,
   "metadata": {},
   "outputs": [],
   "source": [
    "telegram['comp'] = telegram.apply(comp, axis =1)"
   ]
  },
  {
   "cell_type": "markdown",
   "metadata": {},
   "source": [
    "#### Комментарий"
   ]
  },
  {
   "cell_type": "markdown",
   "metadata": {},
   "source": [
    "230 стартапа, но есть пересечение с топовыми. в некоторых случаях - это стартап от крупной компании, но много не верно интерпритируется Яндекс (в требованиях, а не нанематель). Поэтому, все пересечения можно отметить как стартапы и удалить из топов."
   ]
  },
  {
   "cell_type": "markdown",
   "metadata": {},
   "source": [
    "### Навыки"
   ]
  },
  {
   "cell_type": "code",
   "execution_count": 70,
   "metadata": {},
   "outputs": [],
   "source": [
    "skills = r'grafana|mlflow|xgboost|lightgbm|seaborn|skipy|scikit learn|bigquery|postgresql|numpy|matplot|postgresql|jupyter|pandas|html|css|js|oracle|python 3|python|numpy|pytorch|tensorflow|keras|docker|git|sql|tableau|\\bbi\\b|tableau|airflow|etl|excel|power query|power pivot'\n"
   ]
  },
  {
   "cell_type": "code",
   "execution_count": 71,
   "metadata": {},
   "outputs": [],
   "source": [
    "telegram['skills'] = telegram['text_clear'].apply(lambda x: \" \".join(re.findall(skills ,x)))"
   ]
  },
  {
   "cell_type": "code",
   "execution_count": 72,
   "metadata": {},
   "outputs": [
    {
     "data": {
      "text/plain": [
       "0                                                     sql\n",
       "1                                                  js sql\n",
       "2       bi tableau bi tableau bi tableau bi tableau ta...\n",
       "3                python sql excel power query power pivot\n",
       "4                                                      js\n",
       "                              ...                        \n",
       "3507                            python 3 tensorflow keras\n",
       "3508                     python python tensorflow git git\n",
       "3509                                           sql python\n",
       "3510                                           python sql\n",
       "3511                                               python\n",
       "Name: skills, Length: 3512, dtype: object"
      ]
     },
     "execution_count": 72,
     "metadata": {},
     "output_type": "execute_result"
    }
   ],
   "source": [
    "telegram['skills']"
   ]
  },
  {
   "cell_type": "code",
   "execution_count": 73,
   "metadata": {},
   "outputs": [],
   "source": [
    "telegram['skills']= telegram['skills'].apply(lambda x: pd.Series(((\",\".join(x.split()))).split(',')).unique())"
   ]
  },
  {
   "cell_type": "code",
   "execution_count": 74,
   "metadata": {},
   "outputs": [],
   "source": [
    "telegram['skills']= telegram['skills'].apply(lambda x: ' '.join(x))"
   ]
  },
  {
   "cell_type": "code",
   "execution_count": 75,
   "metadata": {},
   "outputs": [
    {
     "data": {
      "text/plain": [
       "'excel'"
      ]
     },
     "execution_count": 75,
     "metadata": {},
     "output_type": "execute_result"
    }
   ],
   "source": [
    "telegram['skills'][6]"
   ]
  },
  {
   "cell_type": "code",
   "execution_count": 76,
   "metadata": {},
   "outputs": [],
   "source": [
    "vectorizer=CountVectorizer()"
   ]
  },
  {
   "cell_type": "code",
   "execution_count": 77,
   "metadata": {},
   "outputs": [],
   "source": [
    "corpus = telegram['skills']"
   ]
  },
  {
   "cell_type": "code",
   "execution_count": 78,
   "metadata": {},
   "outputs": [],
   "source": [
    "count_matrix = vectorizer.fit_transform(corpus)"
   ]
  },
  {
   "cell_type": "code",
   "execution_count": 79,
   "metadata": {},
   "outputs": [],
   "source": [
    "count_array = count_matrix.toarray()"
   ]
  },
  {
   "cell_type": "code",
   "execution_count": 80,
   "metadata": {},
   "outputs": [
    {
     "data": {
      "text/plain": [
       "CountVectorizer()"
      ]
     },
     "execution_count": 80,
     "metadata": {},
     "output_type": "execute_result"
    }
   ],
   "source": [
    "vectorizer.fit(corpus)"
   ]
  },
  {
   "cell_type": "code",
   "execution_count": 81,
   "metadata": {},
   "outputs": [],
   "source": [
    "vectors = vectorizer.transform(corpus)"
   ]
  },
  {
   "cell_type": "code",
   "execution_count": 82,
   "metadata": {},
   "outputs": [
    {
     "data": {
      "text/plain": [
       "matrix([[0, 0, 0, ..., 0, 0, 0],\n",
       "        [0, 0, 0, ..., 0, 0, 0],\n",
       "        [1, 1, 0, ..., 1, 0, 0],\n",
       "        ...,\n",
       "        [0, 0, 0, ..., 0, 0, 0],\n",
       "        [0, 0, 0, ..., 0, 0, 0],\n",
       "        [0, 0, 0, ..., 0, 0, 0]])"
      ]
     },
     "execution_count": 82,
     "metadata": {},
     "output_type": "execute_result"
    }
   ],
   "source": [
    "matrix_count = vectors.todense()\n",
    "matrix_count"
   ]
  },
  {
   "cell_type": "code",
   "execution_count": 83,
   "metadata": {},
   "outputs": [
    {
     "data": {
      "text/plain": [
       "matrix([[ 523,  591,  176,   14,  318,  612,  185,  559,   88,   27,\n",
       "          101,   87,   85,  104,   52,  107,   45,  270,  182,  352,\n",
       "            8,  269,   24, 1788,  186,   23,  104,   46,    2, 1687,\n",
       "          313,  188,   81]])"
      ]
     },
     "execution_count": 83,
     "metadata": {},
     "output_type": "execute_result"
    }
   ],
   "source": [
    "matrix_count.sum(axis = 0)"
   ]
  },
  {
   "cell_type": "code",
   "execution_count": 84,
   "metadata": {},
   "outputs": [
    {
     "data": {
      "text/plain": [
       "(3512, 33)"
      ]
     },
     "execution_count": 84,
     "metadata": {},
     "output_type": "execute_result"
    }
   ],
   "source": [
    "vectors.shape"
   ]
  },
  {
   "cell_type": "code",
   "execution_count": 85,
   "metadata": {},
   "outputs": [],
   "source": [
    "df_skills = pd.DataFrame(data=matrix_count.sum(axis = 0), columns = vectorizer.get_feature_names_out())"
   ]
  },
  {
   "cell_type": "code",
   "execution_count": 86,
   "metadata": {},
   "outputs": [],
   "source": [
    "sk = {'name': vectorizer.get_feature_names_out(), 'frequancy': df_skills.iloc[0]}\n",
    "skills_table = pd.DataFrame(data=sk)\n",
    "skills_table = skills_table.reset_index(drop=True)"
   ]
  },
  {
   "cell_type": "code",
   "execution_count": 87,
   "metadata": {},
   "outputs": [
    {
     "data": {
      "text/html": [
       "<div>\n",
       "<style scoped>\n",
       "    .dataframe tbody tr th:only-of-type {\n",
       "        vertical-align: middle;\n",
       "    }\n",
       "\n",
       "    .dataframe tbody tr th {\n",
       "        vertical-align: top;\n",
       "    }\n",
       "\n",
       "    .dataframe thead th {\n",
       "        text-align: right;\n",
       "    }\n",
       "</style>\n",
       "<table border=\"1\" class=\"dataframe\">\n",
       "  <thead>\n",
       "    <tr style=\"text-align: right;\">\n",
       "      <th></th>\n",
       "      <th>name</th>\n",
       "      <th>frequancy</th>\n",
       "    </tr>\n",
       "  </thead>\n",
       "  <tbody>\n",
       "    <tr>\n",
       "      <th>23</th>\n",
       "      <td>python</td>\n",
       "      <td>1788</td>\n",
       "    </tr>\n",
       "    <tr>\n",
       "      <th>29</th>\n",
       "      <td>sql</td>\n",
       "      <td>1687</td>\n",
       "    </tr>\n",
       "    <tr>\n",
       "      <th>5</th>\n",
       "      <td>etl</td>\n",
       "      <td>612</td>\n",
       "    </tr>\n",
       "    <tr>\n",
       "      <th>1</th>\n",
       "      <td>bi</td>\n",
       "      <td>591</td>\n",
       "    </tr>\n",
       "    <tr>\n",
       "      <th>7</th>\n",
       "      <td>git</td>\n",
       "      <td>559</td>\n",
       "    </tr>\n",
       "  </tbody>\n",
       "</table>\n",
       "</div>"
      ],
      "text/plain": [
       "      name  frequancy\n",
       "23  python       1788\n",
       "29     sql       1687\n",
       "5      etl        612\n",
       "1       bi        591\n",
       "7      git        559"
      ]
     },
     "execution_count": 87,
     "metadata": {},
     "output_type": "execute_result"
    }
   ],
   "source": [
    "skills_table.sort_values(by = 'frequancy', ascending=False).head()"
   ]
  },
  {
   "cell_type": "markdown",
   "metadata": {},
   "source": [
    "#### Комментарий"
   ]
  },
  {
   "cell_type": "markdown",
   "metadata": {},
   "source": [
    "Наиболее востребованные навыки: Python, SQL, ETL"
   ]
  },
  {
   "cell_type": "code",
   "execution_count": 88,
   "metadata": {},
   "outputs": [],
   "source": [
    "# from wordcloud import WordCloud\n",
    "# import matplotlib.pyplot as plt\n",
    "# %matplotlib inline"
   ]
  },
  {
   "cell_type": "markdown",
   "metadata": {},
   "source": [
    "### Зарплата"
   ]
  },
  {
   "cell_type": "code",
   "execution_count": 89,
   "metadata": {},
   "outputs": [],
   "source": [
    "salary = r'(?:до|от|вилка|зп|\\$|\\€|\\₽|зарплата|фикс|range|salary)\\s*\\b\\d{1,3}(?:\\s*|\\,|\\.)\\d0{2}\\s*(?:₽|net|\\$|k|к|net|нет|руб|рублей|тысяч)|(?:до|от|вилка|зп|\\$|₽|зарплата|фикс|range|salary)\\s*\\b\\d{1,3}(?:\\s*|\\,|\\.)\\d0{2}|\\b\\d{1,3}(?:\\s*|\\,|\\.)\\d0{2}\\s*(?:₽|\\€|eur|usd|net|\\$|k|к|гросс|net|нет|руб|рублей|rub|ruble|тысяч)|\\b\\d{2}0\\s*(?:₽|\\€|eur|usd|net|\\$|k|к|гросс|net|нет|руб|рублей|rub|ruble|тысяч)|(?:до|от|вилка|зп|\\$|\\€|\\₽|зарплата|фикс)\\s*\\b\\d{2}0|обсужд|\\b\\d(?:\\,|\\.)\\d(?:k|к|тыс)'\n"
   ]
  },
  {
   "cell_type": "code",
   "execution_count": 90,
   "metadata": {},
   "outputs": [],
   "source": [
    "telegram['salary'] = telegram['text_clear'].apply(lambda x: \" \".join(re.findall(salary ,x)))"
   ]
  },
  {
   "cell_type": "code",
   "execution_count": 91,
   "metadata": {},
   "outputs": [
    {
     "data": {
      "text/plain": [
       "5        \n",
       "6        \n",
       "16       \n",
       "21       \n",
       "24       \n",
       "       ..\n",
       "3447     \n",
       "3461     \n",
       "3475     \n",
       "3477     \n",
       "3478     \n",
       "Name: salary, Length: 1479, dtype: object"
      ]
     },
     "execution_count": 91,
     "metadata": {},
     "output_type": "execute_result"
    }
   ],
   "source": [
    "telegram['salary'][telegram['salary'] == '']"
   ]
  },
  {
   "cell_type": "code",
   "execution_count": 92,
   "metadata": {},
   "outputs": [],
   "source": [
    "usd_eur = r'\\$|euro|usd|\\€|eur|евро|долл'\n",
    "usd = r'\\$|usd|долл'\n",
    "eur = r'euro|\\€|eur|евро'"
   ]
  },
  {
   "cell_type": "code",
   "execution_count": 93,
   "metadata": {},
   "outputs": [],
   "source": [
    "telegram['sal_usd_eur'] = telegram['salary'].apply(lambda x: True if re.search(usd_eur, x) else False)\n"
   ]
  },
  {
   "cell_type": "code",
   "execution_count": 94,
   "metadata": {},
   "outputs": [],
   "source": [
    "telegram['sal_rub'] = telegram['sal_usd_eur'].apply(lambda x: False if x else True)\n"
   ]
  },
  {
   "cell_type": "code",
   "execution_count": 95,
   "metadata": {},
   "outputs": [],
   "source": [
    "telegram['sal_usd'] = telegram['salary'].apply(lambda x: True if re.search(usd, x) else False)\n",
    "telegram['sal_eur'] = telegram['salary'].apply(lambda x: True if re.search(eur, x) else False)"
   ]
  },
  {
   "cell_type": "code",
   "execution_count": 96,
   "metadata": {},
   "outputs": [
    {
     "data": {
      "text/plain": [
       "3512"
      ]
     },
     "execution_count": 96,
     "metadata": {},
     "output_type": "execute_result"
    }
   ],
   "source": [
    "(telegram['sal_rub'] | telegram['sal_usd'] | telegram['sal_eur']).sum()"
   ]
  },
  {
   "cell_type": "code",
   "execution_count": 97,
   "metadata": {},
   "outputs": [],
   "source": [
    "# оставим только цифры\n",
    "telegram['sal'] = telegram['salary'].apply(lambda x: re.sub(r'[^0-9]', ' ',  x))"
   ]
  },
  {
   "cell_type": "code",
   "execution_count": 98,
   "metadata": {},
   "outputs": [],
   "source": [
    "# переведем все з-пл в тыс. для руб\n",
    "telegram['sal'] = telegram['sal'].apply(lambda x: re.sub(r'\\b000', '',  x))"
   ]
  },
  {
   "cell_type": "code",
   "execution_count": 99,
   "metadata": {},
   "outputs": [],
   "source": [
    "telegram['sal'] = telegram['sal'].apply(lambda x: x.split())"
   ]
  },
  {
   "cell_type": "code",
   "execution_count": 100,
   "metadata": {},
   "outputs": [],
   "source": [
    "telegram['sal'] = telegram['sal'].apply(lambda x: list(map(int, x)))"
   ]
  },
  {
   "cell_type": "code",
   "execution_count": 101,
   "metadata": {},
   "outputs": [
    {
     "name": "stderr",
     "output_type": "stream",
     "text": [
      "/Users/yuliaanikeeva/opt/anaconda3/lib/python3.9/site-packages/numpy/core/fromnumeric.py:3440: RuntimeWarning: Mean of empty slice.\n",
      "  return _methods._mean(a, axis=axis, dtype=dtype,\n"
     ]
    }
   ],
   "source": [
    "# выведем среднюю\n",
    "telegram['sal'] = telegram['sal'].apply(lambda x: np.mean(x))"
   ]
  },
  {
   "cell_type": "code",
   "execution_count": 102,
   "metadata": {},
   "outputs": [
    {
     "data": {
      "text/plain": [
       "22      11000.0\n",
       "35       1750.0\n",
       "39       3250.0\n",
       "58       1750.0\n",
       "59       3100.0\n",
       "         ...   \n",
       "3502     3000.0\n",
       "3503     3000.0\n",
       "3505     4250.0\n",
       "3506     4500.0\n",
       "3509     3000.0\n",
       "Name: sal, Length: 186, dtype: float64"
      ]
     },
     "execution_count": 102,
     "metadata": {},
     "output_type": "execute_result"
    }
   ],
   "source": [
    "telegram.query('sal_usd == True')['sal']"
   ]
  },
  {
   "cell_type": "code",
   "execution_count": 103,
   "metadata": {},
   "outputs": [
    {
     "data": {
      "text/plain": [
       "count      1673.000000\n",
       "mean       5491.331640\n",
       "std       32661.388951\n",
       "min           1.000000\n",
       "25%         155.000000\n",
       "50%         215.000000\n",
       "75%         300.000000\n",
       "max      400000.000000\n",
       "Name: sal, dtype: float64"
      ]
     },
     "execution_count": 103,
     "metadata": {},
     "output_type": "execute_result"
    }
   ],
   "source": [
    "telegram['sal'][telegram['sal_rub'] == True].describe()"
   ]
  },
  {
   "cell_type": "code",
   "execution_count": 104,
   "metadata": {},
   "outputs": [
    {
     "name": "stderr",
     "output_type": "stream",
     "text": [
      "/var/folders/_5/zq6mlq6x11l0v2hqm6dfg2q80000gn/T/ipykernel_18759/1768953685.py:1: SettingWithCopyWarning: \n",
      "A value is trying to be set on a copy of a slice from a DataFrame\n",
      "\n",
      "See the caveats in the documentation: https://pandas.pydata.org/pandas-docs/stable/user_guide/indexing.html#returning-a-view-versus-a-copy\n",
      "  telegram['sal'][telegram['sal_rub'] == True] = telegram['sal'][telegram['sal_rub'] == True].apply(lambda x: x/1000 if x > 1000  else x)\n"
     ]
    }
   ],
   "source": [
    "telegram['sal'][telegram['sal_rub'] == True] = telegram['sal'][telegram['sal_rub'] == True].apply(lambda x: x/1000 if x > 1000  else x)\n"
   ]
  },
  {
   "cell_type": "code",
   "execution_count": 105,
   "metadata": {},
   "outputs": [
    {
     "data": {
      "text/plain": [
       "Series([], Name: sal, dtype: float64)"
      ]
     },
     "execution_count": 105,
     "metadata": {},
     "output_type": "execute_result"
    }
   ],
   "source": [
    "telegram[telegram['sal_rub'] == True].query('sal > 2000')['sal']"
   ]
  },
  {
   "cell_type": "code",
   "execution_count": 106,
   "metadata": {},
   "outputs": [
    {
     "data": {
      "text/plain": [
       "count    1673.000000\n",
       "mean      211.718948\n",
       "std       101.111874\n",
       "min         1.000000\n",
       "25%       150.000000\n",
       "50%       200.000000\n",
       "75%       260.000000\n",
       "max      1000.000000\n",
       "Name: sal, dtype: float64"
      ]
     },
     "execution_count": 106,
     "metadata": {},
     "output_type": "execute_result"
    }
   ],
   "source": [
    "telegram['sal'][telegram['sal_rub'] == True].describe()"
   ]
  },
  {
   "cell_type": "code",
   "execution_count": 107,
   "metadata": {},
   "outputs": [
    {
     "data": {
      "image/png": "[encoded data removed]",
      "text/plain": [
       "<Figure size 432x288 with 1 Axes>"
      ]
     },
     "metadata": {
      "needs_background": "light"
     },
     "output_type": "display_data"
    }
   ],
   "source": [
    "telegram.query('sal_rub == True').boxplot(column = 'sal')\n",
    "plt.show()"
   ]
  },
  {
   "cell_type": "code",
   "execution_count": 108,
   "metadata": {},
   "outputs": [
    {
     "name": "stderr",
     "output_type": "stream",
     "text": [
      "/var/folders/_5/zq6mlq6x11l0v2hqm6dfg2q80000gn/T/ipykernel_18759/318678469.py:1: SettingWithCopyWarning: \n",
      "A value is trying to be set on a copy of a slice from a DataFrame\n",
      "\n",
      "See the caveats in the documentation: https://pandas.pydata.org/pandas-docs/stable/user_guide/indexing.html#returning-a-view-versus-a-copy\n",
      "  telegram['sal'][telegram['sal_usd'] == True] = telegram['sal'][telegram['sal_usd'] == True].apply(lambda x: x/1000 if x > 50  else x)\n"
     ]
    }
   ],
   "source": [
    "telegram['sal'][telegram['sal_usd'] == True] = telegram['sal'][telegram['sal_usd'] == True].apply(lambda x: x/1000 if x > 50  else x)\n"
   ]
  },
  {
   "cell_type": "code",
   "execution_count": 109,
   "metadata": {},
   "outputs": [
    {
     "data": {
      "text/plain": [
       "count    186.000000\n",
       "mean       3.429573\n",
       "std        2.510762\n",
       "min        0.051500\n",
       "25%        1.925000\n",
       "50%        3.250000\n",
       "75%        4.500000\n",
       "max       15.000000\n",
       "Name: sal, dtype: float64"
      ]
     },
     "execution_count": 109,
     "metadata": {},
     "output_type": "execute_result"
    }
   ],
   "source": [
    "telegram['sal'][telegram['sal_usd'] == True].describe()"
   ]
  },
  {
   "cell_type": "code",
   "execution_count": 110,
   "metadata": {},
   "outputs": [
    {
     "data": {
      "image/png": "[encoded data removed]",
      "text/plain": [
       "<Figure size 432x288 with 1 Axes>"
      ]
     },
     "metadata": {
      "needs_background": "light"
     },
     "output_type": "display_data"
    }
   ],
   "source": [
    "telegram.query('sal_usd == True').boxplot(column = 'sal')\n",
    "plt.show()"
   ]
  },
  {
   "cell_type": "code",
   "execution_count": 111,
   "metadata": {},
   "outputs": [
    {
     "name": "stderr",
     "output_type": "stream",
     "text": [
      "/var/folders/_5/zq6mlq6x11l0v2hqm6dfg2q80000gn/T/ipykernel_18759/910396375.py:2: SettingWithCopyWarning: \n",
      "A value is trying to be set on a copy of a slice from a DataFrame\n",
      "\n",
      "See the caveats in the documentation: https://pandas.pydata.org/pandas-docs/stable/user_guide/indexing.html#returning-a-view-versus-a-copy\n",
      "  telegram['sal'][telegram['sal_usd'] == True]= telegram['sal'][telegram['sal_usd'] == True]*50\n"
     ]
    }
   ],
   "source": [
    "# переведем в рубли (курс предположим 50)\n",
    "telegram['sal'][telegram['sal_usd'] == True]= telegram['sal'][telegram['sal_usd'] == True]*50"
   ]
  },
  {
   "cell_type": "code",
   "execution_count": 112,
   "metadata": {},
   "outputs": [
    {
     "name": "stderr",
     "output_type": "stream",
     "text": [
      "/var/folders/_5/zq6mlq6x11l0v2hqm6dfg2q80000gn/T/ipykernel_18759/3678514320.py:1: SettingWithCopyWarning: \n",
      "A value is trying to be set on a copy of a slice from a DataFrame\n",
      "\n",
      "See the caveats in the documentation: https://pandas.pydata.org/pandas-docs/stable/user_guide/indexing.html#returning-a-view-versus-a-copy\n",
      "  telegram['sal'][telegram['sal_eur'] == True] = telegram['sal'][telegram['sal_eur'] == True].apply(lambda x: x/1000 if x > 50  else x)\n"
     ]
    }
   ],
   "source": [
    "telegram['sal'][telegram['sal_eur'] == True] = telegram['sal'][telegram['sal_eur'] == True].apply(lambda x: x/1000 if x > 50  else x)\n",
    "\n"
   ]
  },
  {
   "cell_type": "code",
   "execution_count": 113,
   "metadata": {},
   "outputs": [
    {
     "data": {
      "text/plain": [
       "count    29.000000\n",
       "mean      4.009195\n",
       "std       0.987628\n",
       "min       2.000000\n",
       "25%       3.400000\n",
       "50%       4.000000\n",
       "75%       4.500000\n",
       "max       6.700000\n",
       "Name: sal, dtype: float64"
      ]
     },
     "execution_count": 113,
     "metadata": {},
     "output_type": "execute_result"
    }
   ],
   "source": [
    "telegram['sal'][telegram['sal_eur'] == True].describe()"
   ]
  },
  {
   "cell_type": "code",
   "execution_count": 114,
   "metadata": {},
   "outputs": [
    {
     "name": "stderr",
     "output_type": "stream",
     "text": [
      "/var/folders/_5/zq6mlq6x11l0v2hqm6dfg2q80000gn/T/ipykernel_18759/3990425964.py:2: SettingWithCopyWarning: \n",
      "A value is trying to be set on a copy of a slice from a DataFrame\n",
      "\n",
      "See the caveats in the documentation: https://pandas.pydata.org/pandas-docs/stable/user_guide/indexing.html#returning-a-view-versus-a-copy\n",
      "  telegram['sal'][telegram['sal_eur'] == True] = telegram['sal'][telegram['sal_eur'] == True]*50\n"
     ]
    }
   ],
   "source": [
    "# переведем в рубли (курс предположим 50)\n",
    "telegram['sal'][telegram['sal_eur'] == True] = telegram['sal'][telegram['sal_eur'] == True]*50"
   ]
  },
  {
   "cell_type": "code",
   "execution_count": 115,
   "metadata": {},
   "outputs": [
    {
     "data": {
      "text/plain": [
       "count    1888.000000\n",
       "mean      207.581655\n",
       "std       103.848234\n",
       "min         1.000000\n",
       "25%       150.000000\n",
       "50%       200.000000\n",
       "75%       250.000000\n",
       "max      1000.000000\n",
       "Name: sal, dtype: float64"
      ]
     },
     "execution_count": 115,
     "metadata": {},
     "output_type": "execute_result"
    }
   ],
   "source": [
    "telegram['sal'].describe()"
   ]
  },
  {
   "cell_type": "code",
   "execution_count": 116,
   "metadata": {},
   "outputs": [
    {
     "data": {
      "image/png": "[encoded data removed]",
      "text/plain": [
       "<Figure size 432x288 with 1 Axes>"
      ]
     },
     "metadata": {
      "needs_background": "light"
     },
     "output_type": "display_data"
    }
   ],
   "source": [
    "telegram.boxplot(column = 'sal')\n",
    "plt.show()"
   ]
  },
  {
   "cell_type": "markdown",
   "metadata": {},
   "source": [
    "#### Комментарий"
   ]
  },
  {
   "cell_type": "markdown",
   "metadata": {},
   "source": [
    "зарплатные данные есть по чуть больше половины строк (2163)"
   ]
  },
  {
   "cell_type": "markdown",
   "metadata": {},
   "source": [
    "## Итоговый датафрейм"
   ]
  },
  {
   "cell_type": "markdown",
   "metadata": {},
   "source": [
    "### Создание итогового датафрейма"
   ]
  },
  {
   "cell_type": "code",
   "execution_count": 182,
   "metadata": {},
   "outputs": [
    {
     "name": "stdout",
     "output_type": "stream",
     "text": [
      "<class 'pandas.core.frame.DataFrame'>\n",
      "RangeIndex: 3512 entries, 0 to 3511\n",
      "Data columns (total 31 columns):\n",
      " #   Column       Non-Null Count  Dtype         \n",
      "---  ------       --------------  -----         \n",
      " 0   chat         3512 non-null   object        \n",
      " 1   message_id   3512 non-null   int64         \n",
      " 2   date         3512 non-null   datetime64[ns]\n",
      " 3   text         3512 non-null   object        \n",
      " 4   entities     3512 non-null   object        \n",
      " 5   chat_id      3512 non-null   int64         \n",
      " 6   chat_title   3512 non-null   object        \n",
      " 7   text_clear   3512 non-null   object        \n",
      " 8   spec         3512 non-null   object        \n",
      " 9   len          3512 non-null   int64         \n",
      " 10  grade_list   1168 non-null   object        \n",
      " 11  grade        3512 non-null   object        \n",
      " 12  exp          3512 non-null   object        \n",
      " 13  exp_grade    3512 non-null   object        \n",
      " 14  format       3512 non-null   object        \n",
      " 15  remote       3512 non-null   bool          \n",
      " 16  office       3512 non-null   bool          \n",
      " 17  hybrid       3512 non-null   bool          \n",
      " 18  day          3512 non-null   object        \n",
      " 19  schedule     3512 non-null   object        \n",
      " 20  top          3512 non-null   bool          \n",
      " 21  startup      3512 non-null   bool          \n",
      " 22  skills       3512 non-null   object        \n",
      " 23  salary       3512 non-null   object        \n",
      " 24  sal_usd_eur  3512 non-null   bool          \n",
      " 25  sal_rub      3512 non-null   bool          \n",
      " 26  sal_usd      3512 non-null   bool          \n",
      " 27  sal_eur      3512 non-null   bool          \n",
      " 28  sal          1888 non-null   float64       \n",
      " 29  format_work  3512 non-null   object        \n",
      " 30  comp         3512 non-null   object        \n",
      "dtypes: bool(9), datetime64[ns](1), float64(1), int64(3), object(17)\n",
      "memory usage: 634.6+ KB\n"
     ]
    }
   ],
   "source": [
    "telegram.info()"
   ]
  },
  {
   "cell_type": "code",
   "execution_count": 183,
   "metadata": {},
   "outputs": [
    {
     "data": {
      "text/plain": [
       "Index(['chat', 'message_id', 'date', 'text', 'entities', 'chat_id',\n",
       "       'chat_title', 'text_clear', 'spec', 'len', 'grade_list', 'grade', 'exp',\n",
       "       'exp_grade', 'format', 'remote', 'office', 'hybrid', 'day', 'schedule',\n",
       "       'top', 'startup', 'skills', 'salary', 'sal_usd_eur', 'sal_rub',\n",
       "       'sal_usd', 'sal_eur', 'sal', 'format_work', 'comp'],\n",
       "      dtype='object')"
      ]
     },
     "execution_count": 183,
     "metadata": {},
     "output_type": "execute_result"
    }
   ],
   "source": [
    "telegram.columns"
   ]
  },
  {
   "cell_type": "code",
   "execution_count": 184,
   "metadata": {},
   "outputs": [],
   "source": [
    "columns = ['date', 'spec', 'grade', 'format_work', 'schedule', 'comp', 'skills',\n",
    "       'sal']"
   ]
  },
  {
   "cell_type": "code",
   "execution_count": 185,
   "metadata": {},
   "outputs": [],
   "source": [
    "data = pd.DataFrame(data = telegram, columns=columns)"
   ]
  },
  {
   "cell_type": "code",
   "execution_count": 187,
   "metadata": {},
   "outputs": [
    {
     "data": {
      "text/html": [
       "<div>\n",
       "<style scoped>\n",
       "    .dataframe tbody tr th:only-of-type {\n",
       "        vertical-align: middle;\n",
       "    }\n",
       "\n",
       "    .dataframe tbody tr th {\n",
       "        vertical-align: top;\n",
       "    }\n",
       "\n",
       "    .dataframe thead th {\n",
       "        text-align: right;\n",
       "    }\n",
       "</style>\n",
       "<table border=\"1\" class=\"dataframe\">\n",
       "  <thead>\n",
       "    <tr style=\"text-align: right;\">\n",
       "      <th></th>\n",
       "      <th>date</th>\n",
       "      <th>spec</th>\n",
       "      <th>grade</th>\n",
       "      <th>format_work</th>\n",
       "      <th>schedule</th>\n",
       "      <th>comp</th>\n",
       "      <th>skills</th>\n",
       "      <th>sal</th>\n",
       "    </tr>\n",
       "  </thead>\n",
       "  <tbody>\n",
       "    <tr>\n",
       "      <th>0</th>\n",
       "      <td>2022-09-21 11:17:48</td>\n",
       "      <td>da</td>\n",
       "      <td>junior</td>\n",
       "      <td>remote</td>\n",
       "      <td>full</td>\n",
       "      <td>top</td>\n",
       "      <td>sql</td>\n",
       "      <td>320.0</td>\n",
       "    </tr>\n",
       "    <tr>\n",
       "      <th>1</th>\n",
       "      <td>2022-09-21 08:49:51</td>\n",
       "      <td>da</td>\n",
       "      <td>middle</td>\n",
       "      <td>remote</td>\n",
       "      <td>n/d</td>\n",
       "      <td>other</td>\n",
       "      <td>js sql</td>\n",
       "      <td>200.0</td>\n",
       "    </tr>\n",
       "    <tr>\n",
       "      <th>2</th>\n",
       "      <td>2022-09-05 15:03:49</td>\n",
       "      <td>de</td>\n",
       "      <td>senior</td>\n",
       "      <td>remote</td>\n",
       "      <td>full</td>\n",
       "      <td>top</td>\n",
       "      <td>bi tableau airflow etl sql python</td>\n",
       "      <td>300.0</td>\n",
       "    </tr>\n",
       "    <tr>\n",
       "      <th>3</th>\n",
       "      <td>2022-08-22 16:26:21</td>\n",
       "      <td>ds</td>\n",
       "      <td>middle</td>\n",
       "      <td>office</td>\n",
       "      <td>n/d</td>\n",
       "      <td>other</td>\n",
       "      <td>python sql excel power query pivot</td>\n",
       "      <td>200.0</td>\n",
       "    </tr>\n",
       "    <tr>\n",
       "      <th>4</th>\n",
       "      <td>2022-08-22 16:25:59</td>\n",
       "      <td>da</td>\n",
       "      <td>middle</td>\n",
       "      <td>remote</td>\n",
       "      <td>n/d</td>\n",
       "      <td>other</td>\n",
       "      <td>js</td>\n",
       "      <td>200.0</td>\n",
       "    </tr>\n",
       "  </tbody>\n",
       "</table>\n",
       "</div>"
      ],
      "text/plain": [
       "                 date spec   grade format_work schedule   comp  \\\n",
       "0 2022-09-21 11:17:48   da  junior      remote     full    top   \n",
       "1 2022-09-21 08:49:51   da  middle      remote      n/d  other   \n",
       "2 2022-09-05 15:03:49   de  senior      remote     full    top   \n",
       "3 2022-08-22 16:26:21   ds  middle      office      n/d  other   \n",
       "4 2022-08-22 16:25:59   da  middle      remote      n/d  other   \n",
       "\n",
       "                               skills    sal  \n",
       "0                                 sql  320.0  \n",
       "1                              js sql  200.0  \n",
       "2   bi tableau airflow etl sql python  300.0  \n",
       "3  python sql excel power query pivot  200.0  \n",
       "4                                  js  200.0  "
      ]
     },
     "execution_count": 187,
     "metadata": {},
     "output_type": "execute_result"
    }
   ],
   "source": [
    "data.head(5)"
   ]
  },
  {
   "cell_type": "code",
   "execution_count": 188,
   "metadata": {},
   "outputs": [
    {
     "name": "stdout",
     "output_type": "stream",
     "text": [
      "<class 'pandas.core.frame.DataFrame'>\n",
      "RangeIndex: 3512 entries, 0 to 3511\n",
      "Data columns (total 8 columns):\n",
      " #   Column       Non-Null Count  Dtype         \n",
      "---  ------       --------------  -----         \n",
      " 0   date         3512 non-null   datetime64[ns]\n",
      " 1   spec         3512 non-null   object        \n",
      " 2   grade        3512 non-null   object        \n",
      " 3   format_work  3512 non-null   object        \n",
      " 4   schedule     3512 non-null   object        \n",
      " 5   comp         3512 non-null   object        \n",
      " 6   skills       3512 non-null   object        \n",
      " 7   sal          1888 non-null   float64       \n",
      "dtypes: datetime64[ns](1), float64(1), object(6)\n",
      "memory usage: 219.6+ KB\n"
     ]
    }
   ],
   "source": [
    "data.info()"
   ]
  },
  {
   "cell_type": "code",
   "execution_count": 189,
   "metadata": {},
   "outputs": [],
   "source": [
    "data.to_csv('data.csv', )"
   ]
  },
  {
   "cell_type": "markdown",
   "metadata": {},
   "source": [
    "## Анализ данных"
   ]
  },
  {
   "cell_type": "markdown",
   "metadata": {},
   "source": [
    "#### специальности"
   ]
  },
  {
   "cell_type": "code",
   "execution_count": 124,
   "metadata": {},
   "outputs": [
    {
     "data": {
      "text/plain": [
       "da    1771\n",
       "ds    1122\n",
       "de     619\n",
       "Name: spec, dtype: int64"
      ]
     },
     "execution_count": 124,
     "metadata": {},
     "output_type": "execute_result"
    }
   ],
   "source": [
    "# Количество вакансий по специальностям\n",
    "data['spec'].value_counts()"
   ]
  },
  {
   "cell_type": "code",
   "execution_count": 125,
   "metadata": {},
   "outputs": [
    {
     "data": {
      "image/png": "[encoded data removed]",
      "text/plain": [
       "<Figure size 432x288 with 1 Axes>"
      ]
     },
     "metadata": {
      "needs_background": "light"
     },
     "output_type": "display_data"
    }
   ],
   "source": [
    "data['spec'].value_counts().plot(kind = 'bar')\n",
    "plt.show()"
   ]
  },
  {
   "cell_type": "markdown",
   "metadata": {},
   "source": [
    "#### компании"
   ]
  },
  {
   "cell_type": "code",
   "execution_count": 126,
   "metadata": {},
   "outputs": [
    {
     "data": {
      "text/plain": [
       "da    0.510181\n",
       "ds    0.324661\n",
       "de    0.165158\n",
       "Name: spec, dtype: float64"
      ]
     },
     "execution_count": 126,
     "metadata": {},
     "output_type": "execute_result"
    }
   ],
   "source": [
    "# Количество вакансий по специальностям среди топовых компаний\n",
    "data['spec'][data['top'] == True].value_counts(normalize = True)"
   ]
  },
  {
   "cell_type": "code",
   "execution_count": 127,
   "metadata": {},
   "outputs": [
    {
     "data": {
      "image/png": "[encoded data removed]",
      "text/plain": [
       "<Figure size 432x288 with 1 Axes>"
      ]
     },
     "metadata": {
      "needs_background": "light"
     },
     "output_type": "display_data"
    }
   ],
   "source": [
    "data['spec'][data['top'] == True].value_counts().plot(kind = 'bar')\n",
    "plt.show()"
   ]
  },
  {
   "cell_type": "code",
   "execution_count": 128,
   "metadata": {},
   "outputs": [
    {
     "data": {
      "text/plain": [
       "da    0.435644\n",
       "ds    0.341584\n",
       "de    0.222772\n",
       "Name: spec, dtype: float64"
      ]
     },
     "execution_count": 128,
     "metadata": {},
     "output_type": "execute_result"
    }
   ],
   "source": [
    "# Количество вакансий по специальностям среди стартапов\n",
    "data['spec'][data['startup'] == True].value_counts(normalize = True)"
   ]
  },
  {
   "cell_type": "code",
   "execution_count": 129,
   "metadata": {},
   "outputs": [
    {
     "data": {
      "image/png": "[encoded data removed]",
      "text/plain": [
       "<Figure size 432x288 with 1 Axes>"
      ]
     },
     "metadata": {
      "needs_background": "light"
     },
     "output_type": "display_data"
    }
   ],
   "source": [
    "data['spec'][data['startup'] == True].value_counts().plot(kind = 'bar')\n",
    "plt.show()"
   ]
  },
  {
   "cell_type": "markdown",
   "metadata": {},
   "source": [
    "#### формат"
   ]
  },
  {
   "cell_type": "code",
   "execution_count": 130,
   "metadata": {},
   "outputs": [
    {
     "data": {
      "text/html": [
       "<div>\n",
       "<style scoped>\n",
       "    .dataframe tbody tr th:only-of-type {\n",
       "        vertical-align: middle;\n",
       "    }\n",
       "\n",
       "    .dataframe tbody tr th {\n",
       "        vertical-align: top;\n",
       "    }\n",
       "\n",
       "    .dataframe thead th {\n",
       "        text-align: right;\n",
       "    }\n",
       "</style>\n",
       "<table border=\"1\" class=\"dataframe\">\n",
       "  <thead>\n",
       "    <tr style=\"text-align: right;\">\n",
       "      <th></th>\n",
       "      <th>hybrid</th>\n",
       "      <th>office</th>\n",
       "      <th>remote</th>\n",
       "    </tr>\n",
       "    <tr>\n",
       "      <th>spec</th>\n",
       "      <th></th>\n",
       "      <th></th>\n",
       "      <th></th>\n",
       "    </tr>\n",
       "  </thead>\n",
       "  <tbody>\n",
       "    <tr>\n",
       "      <th>da</th>\n",
       "      <td>268</td>\n",
       "      <td>1441</td>\n",
       "      <td>626</td>\n",
       "    </tr>\n",
       "    <tr>\n",
       "      <th>de</th>\n",
       "      <td>94</td>\n",
       "      <td>423</td>\n",
       "      <td>338</td>\n",
       "    </tr>\n",
       "    <tr>\n",
       "      <th>ds</th>\n",
       "      <td>153</td>\n",
       "      <td>832</td>\n",
       "      <td>492</td>\n",
       "    </tr>\n",
       "  </tbody>\n",
       "</table>\n",
       "</div>"
      ],
      "text/plain": [
       "      hybrid  office  remote\n",
       "spec                        \n",
       "da       268    1441     626\n",
       "de        94     423     338\n",
       "ds       153     832     492"
      ]
     },
     "execution_count": 130,
     "metadata": {},
     "output_type": "execute_result"
    }
   ],
   "source": [
    "# для каждой специальности выделим наиболее востребованный формат\n",
    "pd.pivot_table(data, index = 'spec', values = ['remote', 'office', 'hybrid'], aggfunc = ('sum'))"
   ]
  },
  {
   "cell_type": "code",
   "execution_count": 131,
   "metadata": {},
   "outputs": [
    {
     "data": {
      "text/plain": [
       "hybrid     515\n",
       "office    2696\n",
       "remote    1456\n",
       "dtype: int64"
      ]
     },
     "execution_count": 131,
     "metadata": {},
     "output_type": "execute_result"
    }
   ],
   "source": [
    "pd.pivot_table(data, index = 'spec', values = ['remote', 'office', 'hybrid'], aggfunc = ('sum')).sum(axis = 0)"
   ]
  },
  {
   "cell_type": "code",
   "execution_count": 132,
   "metadata": {},
   "outputs": [
    {
     "data": {
      "image/png": "[encoded data removed]",
      "text/plain": [
       "<Figure size 432x288 with 2 Axes>"
      ]
     },
     "metadata": {
      "needs_background": "light"
     },
     "output_type": "display_data"
    }
   ],
   "source": [
    "sns.heatmap(pd.pivot_table(data, index = 'spec', values = ['remote', 'office', 'hybrid'], aggfunc = 'sum'))\n",
    "plt.show()"
   ]
  },
  {
   "cell_type": "code",
   "execution_count": 248,
   "metadata": {},
   "outputs": [
    {
     "data": {
      "text/plain": [
       "spec  format_work\n",
       "da    hybrid           48\n",
       "      office         1097\n",
       "      remote          626\n",
       "de    hybrid            5\n",
       "      office          276\n",
       "      remote          338\n",
       "ds    hybrid            7\n",
       "      office          623\n",
       "      remote          492\n",
       "Name: spec, dtype: int64"
      ]
     },
     "execution_count": 248,
     "metadata": {},
     "output_type": "execute_result"
    }
   ],
   "source": [
    "format_work = data.groupby(['spec', 'format_work'])['spec'].count()\n",
    "format_work"
   ]
  },
  {
   "cell_type": "code",
   "execution_count": 249,
   "metadata": {},
   "outputs": [],
   "source": [
    "format_work.to_csv('format_work.csv')"
   ]
  },
  {
   "cell_type": "markdown",
   "metadata": {},
   "source": [
    "#### график"
   ]
  },
  {
   "cell_type": "code",
   "execution_count": 133,
   "metadata": {},
   "outputs": [
    {
     "data": {
      "text/plain": [
       "full    0.817291\n",
       "n/d     0.176471\n",
       "part    0.006239\n",
       "Name: schedule, dtype: float64"
      ]
     },
     "execution_count": 133,
     "metadata": {},
     "output_type": "execute_result"
    }
   ],
   "source": [
    "# для каждой специальности выделим данные по графикам\n",
    "data['schedule'][data['spec'] == 'ds'].value_counts(normalize=True)"
   ]
  },
  {
   "cell_type": "code",
   "execution_count": 134,
   "metadata": {},
   "outputs": [
    {
     "data": {
      "text/plain": [
       "full    0.898363\n",
       "n/d     0.089780\n",
       "part    0.011858\n",
       "Name: schedule, dtype: float64"
      ]
     },
     "execution_count": 134,
     "metadata": {},
     "output_type": "execute_result"
    }
   ],
   "source": [
    "data['schedule'][data['spec'] == 'da'].value_counts(normalize=True)"
   ]
  },
  {
   "cell_type": "code",
   "execution_count": 135,
   "metadata": {},
   "outputs": [
    {
     "data": {
      "text/plain": [
       "full    0.886914\n",
       "n/d     0.098546\n",
       "part    0.014540\n",
       "Name: schedule, dtype: float64"
      ]
     },
     "execution_count": 135,
     "metadata": {},
     "output_type": "execute_result"
    }
   ],
   "source": [
    "data['schedule'][data['spec'] == 'de'].value_counts(normalize=True)"
   ]
  },
  {
   "cell_type": "code",
   "execution_count": 245,
   "metadata": {},
   "outputs": [],
   "source": [
    "schedule = data.groupby(['spec', 'schedule'])['spec'].count()"
   ]
  },
  {
   "cell_type": "code",
   "execution_count": 250,
   "metadata": {},
   "outputs": [
    {
     "data": {
      "text/plain": [
       "spec  schedule\n",
       "da    full        1591\n",
       "      n/d          159\n",
       "      part          21\n",
       "de    full         549\n",
       "      n/d           61\n",
       "      part           9\n",
       "ds    full         917\n",
       "      n/d          198\n",
       "      part           7\n",
       "Name: spec, dtype: int64"
      ]
     },
     "execution_count": 250,
     "metadata": {},
     "output_type": "execute_result"
    }
   ],
   "source": [
    "schedule"
   ]
  },
  {
   "cell_type": "code",
   "execution_count": 246,
   "metadata": {},
   "outputs": [],
   "source": [
    "schedule.to_csv('schedule.csv')"
   ]
  },
  {
   "cell_type": "markdown",
   "metadata": {},
   "source": [
    "#### степень"
   ]
  },
  {
   "cell_type": "code",
   "execution_count": 136,
   "metadata": {},
   "outputs": [
    {
     "data": {
      "text/plain": [
       "None      1953\n",
       "middle     616\n",
       "senior     479\n",
       "junior     464\n",
       "Name: grade, dtype: int64"
      ]
     },
     "execution_count": 136,
     "metadata": {},
     "output_type": "execute_result"
    }
   ],
   "source": [
    "data['grade'].value_counts()"
   ]
  },
  {
   "cell_type": "code",
   "execution_count": 137,
   "metadata": {},
   "outputs": [
    {
     "data": {
      "text/plain": [
       "None      0.464349\n",
       "senior    0.186275\n",
       "middle    0.184492\n",
       "junior    0.164884\n",
       "Name: grade, dtype: float64"
      ]
     },
     "execution_count": 137,
     "metadata": {},
     "output_type": "execute_result"
    }
   ],
   "source": [
    "data['grade'][data['spec'] == 'ds'].value_counts(normalize=True)"
   ]
  },
  {
   "cell_type": "code",
   "execution_count": 138,
   "metadata": {},
   "outputs": [
    {
     "data": {
      "text/plain": [
       "None      0.518578\n",
       "middle    0.189015\n",
       "senior    0.180937\n",
       "junior    0.111470\n",
       "Name: grade, dtype: float64"
      ]
     },
     "execution_count": 138,
     "metadata": {},
     "output_type": "execute_result"
    }
   ],
   "source": [
    "data['grade'][data['spec'] == 'de'].value_counts(normalize=True)"
   ]
  },
  {
   "cell_type": "code",
   "execution_count": 139,
   "metadata": {},
   "outputs": [
    {
     "data": {
      "text/plain": [
       "None      0.627329\n",
       "middle    0.164879\n",
       "junior    0.118577\n",
       "senior    0.089215\n",
       "Name: grade, dtype: float64"
      ]
     },
     "execution_count": 139,
     "metadata": {},
     "output_type": "execute_result"
    }
   ],
   "source": [
    "data['grade'][data['spec'] == 'da'].value_counts(normalize=True)"
   ]
  },
  {
   "cell_type": "code",
   "execution_count": 241,
   "metadata": {},
   "outputs": [],
   "source": [
    "grade = data.groupby(['grade', 'spec'])['spec'].count()"
   ]
  },
  {
   "cell_type": "code",
   "execution_count": 242,
   "metadata": {},
   "outputs": [],
   "source": [
    "grade.to_csv('grade.csv')"
   ]
  },
  {
   "cell_type": "markdown",
   "metadata": {},
   "source": [
    "#### зарплата"
   ]
  },
  {
   "cell_type": "code",
   "execution_count": 140,
   "metadata": {},
   "outputs": [
    {
     "data": {
      "text/html": [
       "<div>\n",
       "<style scoped>\n",
       "    .dataframe tbody tr th:only-of-type {\n",
       "        vertical-align: middle;\n",
       "    }\n",
       "\n",
       "    .dataframe tbody tr th {\n",
       "        vertical-align: top;\n",
       "    }\n",
       "\n",
       "    .dataframe thead th {\n",
       "        text-align: right;\n",
       "    }\n",
       "</style>\n",
       "<table border=\"1\" class=\"dataframe\">\n",
       "  <thead>\n",
       "    <tr style=\"text-align: right;\">\n",
       "      <th></th>\n",
       "      <th>sal</th>\n",
       "    </tr>\n",
       "    <tr>\n",
       "      <th>spec</th>\n",
       "      <th></th>\n",
       "    </tr>\n",
       "  </thead>\n",
       "  <tbody>\n",
       "    <tr>\n",
       "      <th>da</th>\n",
       "      <td>197.614279</td>\n",
       "    </tr>\n",
       "    <tr>\n",
       "      <th>de</th>\n",
       "      <td>215.062276</td>\n",
       "    </tr>\n",
       "    <tr>\n",
       "      <th>ds</th>\n",
       "      <td>215.149455</td>\n",
       "    </tr>\n",
       "  </tbody>\n",
       "</table>\n",
       "</div>"
      ],
      "text/plain": [
       "             sal\n",
       "spec            \n",
       "da    197.614279\n",
       "de    215.062276\n",
       "ds    215.149455"
      ]
     },
     "execution_count": 140,
     "metadata": {},
     "output_type": "execute_result"
    }
   ],
   "source": [
    "data.pivot_table(index = 'spec', values = 'sal', aggfunc = 'mean')"
   ]
  },
  {
   "cell_type": "code",
   "execution_count": 141,
   "metadata": {},
   "outputs": [
    {
     "data": {
      "text/plain": [
       "<AxesSubplot:xlabel='spec'>"
      ]
     },
     "execution_count": 141,
     "metadata": {},
     "output_type": "execute_result"
    },
    {
     "data": {
      "image/png": "[encoded data removed]",
      "text/plain": [
       "<Figure size 432x288 with 1 Axes>"
      ]
     },
     "metadata": {
      "needs_background": "light"
     },
     "output_type": "display_data"
    }
   ],
   "source": [
    "data.pivot_table(index = 'spec', values = 'sal', aggfunc = 'mean').plot(kind = 'bar')"
   ]
  },
  {
   "cell_type": "code",
   "execution_count": 142,
   "metadata": {},
   "outputs": [
    {
     "data": {
      "text/html": [
       "<div>\n",
       "<style scoped>\n",
       "    .dataframe tbody tr th:only-of-type {\n",
       "        vertical-align: middle;\n",
       "    }\n",
       "\n",
       "    .dataframe tbody tr th {\n",
       "        vertical-align: top;\n",
       "    }\n",
       "\n",
       "    .dataframe thead tr th {\n",
       "        text-align: left;\n",
       "    }\n",
       "\n",
       "    .dataframe thead tr:last-of-type th {\n",
       "        text-align: right;\n",
       "    }\n",
       "</style>\n",
       "<table border=\"1\" class=\"dataframe\">\n",
       "  <thead>\n",
       "    <tr>\n",
       "      <th>top</th>\n",
       "      <th colspan=\"2\" halign=\"left\">False</th>\n",
       "      <th>True</th>\n",
       "    </tr>\n",
       "    <tr>\n",
       "      <th>startup</th>\n",
       "      <th>False</th>\n",
       "      <th>True</th>\n",
       "      <th>False</th>\n",
       "    </tr>\n",
       "    <tr>\n",
       "      <th>spec</th>\n",
       "      <th></th>\n",
       "      <th></th>\n",
       "      <th></th>\n",
       "    </tr>\n",
       "  </thead>\n",
       "  <tbody>\n",
       "    <tr>\n",
       "      <th>da</th>\n",
       "      <td>191.000852</td>\n",
       "      <td>198.338406</td>\n",
       "      <td>215.111802</td>\n",
       "    </tr>\n",
       "    <tr>\n",
       "      <th>de</th>\n",
       "      <td>219.626472</td>\n",
       "      <td>195.840000</td>\n",
       "      <td>209.281173</td>\n",
       "    </tr>\n",
       "    <tr>\n",
       "      <th>ds</th>\n",
       "      <td>218.032919</td>\n",
       "      <td>184.140370</td>\n",
       "      <td>215.031696</td>\n",
       "    </tr>\n",
       "  </tbody>\n",
       "</table>\n",
       "</div>"
      ],
      "text/plain": [
       "top           False                    True\n",
       "startup       False        True       False\n",
       "spec                                       \n",
       "da       191.000852  198.338406  215.111802\n",
       "de       219.626472  195.840000  209.281173\n",
       "ds       218.032919  184.140370  215.031696"
      ]
     },
     "execution_count": 142,
     "metadata": {},
     "output_type": "execute_result"
    }
   ],
   "source": [
    "data.pivot_table(index = 'spec', columns = ['top', 'startup'], values = 'sal', aggfunc = 'mean')"
   ]
  },
  {
   "cell_type": "code",
   "execution_count": 143,
   "metadata": {},
   "outputs": [
    {
     "data": {
      "text/plain": [
       "<AxesSubplot:xlabel='spec'>"
      ]
     },
     "execution_count": 143,
     "metadata": {},
     "output_type": "execute_result"
    },
    {
     "data": {
      "image/png": "[encoded data removed]",
      "text/plain": [
       "<Figure size 432x288 with 1 Axes>"
      ]
     },
     "metadata": {
      "needs_background": "light"
     },
     "output_type": "display_data"
    }
   ],
   "source": [
    "data.pivot_table(index = 'spec', columns = ['top', 'startup'], values = 'sal', aggfunc = 'mean').plot(kind = 'bar')"
   ]
  },
  {
   "cell_type": "code",
   "execution_count": 219,
   "metadata": {},
   "outputs": [],
   "source": [
    "avg_sal = pd.DataFrame(data = data['sal'].groupby(data['date'].dt.to_period('M')).mean())\n"
   ]
  },
  {
   "cell_type": "code",
   "execution_count": 224,
   "metadata": {},
   "outputs": [],
   "source": [
    "avg_sal_ds = pd.DataFrame(data = data['sal'][data['spec'] == 'ds'].groupby(data['date'].dt.to_period('M')).mean())\n",
    "avg_sal_da = pd.DataFrame(data = data['sal'][data['spec'] == 'da'].groupby(data['date'].dt.to_period('M')).mean())\n",
    "avg_sal_de = pd.DataFrame(data = data['sal'][data['spec'] == 'de'].groupby(data['date'].dt.to_period('M')).mean())\n"
   ]
  },
  {
   "cell_type": "code",
   "execution_count": 229,
   "metadata": {},
   "outputs": [],
   "source": [
    "avg_sal_ds.to_csv('avg_sal_ds.csv')\n",
    "avg_sal_da.to_csv('avg_sal_da.csv')\n",
    "avg_sal_de.to_csv('avg_sal_de.csv')"
   ]
  },
  {
   "cell_type": "markdown",
   "metadata": {},
   "source": [
    "#### навыки"
   ]
  },
  {
   "cell_type": "code",
   "execution_count": 144,
   "metadata": {},
   "outputs": [],
   "source": [
    "skills_table = pd.DataFrame(data=matrix_count, columns = vectorizer.get_feature_names_out())"
   ]
  },
  {
   "cell_type": "code",
   "execution_count": 145,
   "metadata": {},
   "outputs": [],
   "source": [
    "table = pd.DataFrame(data = matrix_count, columns = vectorizer.get_feature_names_out())"
   ]
  },
  {
   "cell_type": "code",
   "execution_count": 146,
   "metadata": {},
   "outputs": [
    {
     "data": {
      "text/html": [
       "<div>\n",
       "<style scoped>\n",
       "    .dataframe tbody tr th:only-of-type {\n",
       "        vertical-align: middle;\n",
       "    }\n",
       "\n",
       "    .dataframe tbody tr th {\n",
       "        vertical-align: top;\n",
       "    }\n",
       "\n",
       "    .dataframe thead th {\n",
       "        text-align: right;\n",
       "    }\n",
       "</style>\n",
       "<table border=\"1\" class=\"dataframe\">\n",
       "  <thead>\n",
       "    <tr style=\"text-align: right;\">\n",
       "      <th></th>\n",
       "      <th>airflow</th>\n",
       "      <th>bi</th>\n",
       "      <th>bigquery</th>\n",
       "      <th>css</th>\n",
       "      <th>docker</th>\n",
       "      <th>etl</th>\n",
       "      <th>excel</th>\n",
       "      <th>git</th>\n",
       "      <th>grafana</th>\n",
       "      <th>html</th>\n",
       "      <th>...</th>\n",
       "      <th>python</th>\n",
       "      <th>pytorch</th>\n",
       "      <th>query</th>\n",
       "      <th>scikit</th>\n",
       "      <th>seaborn</th>\n",
       "      <th>skipy</th>\n",
       "      <th>sql</th>\n",
       "      <th>tableau</th>\n",
       "      <th>tensorflow</th>\n",
       "      <th>xgboost</th>\n",
       "    </tr>\n",
       "  </thead>\n",
       "  <tbody>\n",
       "    <tr>\n",
       "      <th>0</th>\n",
       "      <td>0</td>\n",
       "      <td>0</td>\n",
       "      <td>0</td>\n",
       "      <td>0</td>\n",
       "      <td>0</td>\n",
       "      <td>0</td>\n",
       "      <td>0</td>\n",
       "      <td>0</td>\n",
       "      <td>0</td>\n",
       "      <td>0</td>\n",
       "      <td>...</td>\n",
       "      <td>0</td>\n",
       "      <td>0</td>\n",
       "      <td>0</td>\n",
       "      <td>0</td>\n",
       "      <td>0</td>\n",
       "      <td>0</td>\n",
       "      <td>1</td>\n",
       "      <td>0</td>\n",
       "      <td>0</td>\n",
       "      <td>0</td>\n",
       "    </tr>\n",
       "    <tr>\n",
       "      <th>1</th>\n",
       "      <td>0</td>\n",
       "      <td>0</td>\n",
       "      <td>0</td>\n",
       "      <td>0</td>\n",
       "      <td>0</td>\n",
       "      <td>0</td>\n",
       "      <td>0</td>\n",
       "      <td>0</td>\n",
       "      <td>0</td>\n",
       "      <td>0</td>\n",
       "      <td>...</td>\n",
       "      <td>0</td>\n",
       "      <td>0</td>\n",
       "      <td>0</td>\n",
       "      <td>0</td>\n",
       "      <td>0</td>\n",
       "      <td>0</td>\n",
       "      <td>1</td>\n",
       "      <td>0</td>\n",
       "      <td>0</td>\n",
       "      <td>0</td>\n",
       "    </tr>\n",
       "    <tr>\n",
       "      <th>2</th>\n",
       "      <td>1</td>\n",
       "      <td>1</td>\n",
       "      <td>0</td>\n",
       "      <td>0</td>\n",
       "      <td>0</td>\n",
       "      <td>1</td>\n",
       "      <td>0</td>\n",
       "      <td>0</td>\n",
       "      <td>0</td>\n",
       "      <td>0</td>\n",
       "      <td>...</td>\n",
       "      <td>1</td>\n",
       "      <td>0</td>\n",
       "      <td>0</td>\n",
       "      <td>0</td>\n",
       "      <td>0</td>\n",
       "      <td>0</td>\n",
       "      <td>1</td>\n",
       "      <td>1</td>\n",
       "      <td>0</td>\n",
       "      <td>0</td>\n",
       "    </tr>\n",
       "    <tr>\n",
       "      <th>3</th>\n",
       "      <td>0</td>\n",
       "      <td>0</td>\n",
       "      <td>0</td>\n",
       "      <td>0</td>\n",
       "      <td>0</td>\n",
       "      <td>0</td>\n",
       "      <td>1</td>\n",
       "      <td>0</td>\n",
       "      <td>0</td>\n",
       "      <td>0</td>\n",
       "      <td>...</td>\n",
       "      <td>1</td>\n",
       "      <td>0</td>\n",
       "      <td>1</td>\n",
       "      <td>0</td>\n",
       "      <td>0</td>\n",
       "      <td>0</td>\n",
       "      <td>1</td>\n",
       "      <td>0</td>\n",
       "      <td>0</td>\n",
       "      <td>0</td>\n",
       "    </tr>\n",
       "    <tr>\n",
       "      <th>4</th>\n",
       "      <td>0</td>\n",
       "      <td>0</td>\n",
       "      <td>0</td>\n",
       "      <td>0</td>\n",
       "      <td>0</td>\n",
       "      <td>0</td>\n",
       "      <td>0</td>\n",
       "      <td>0</td>\n",
       "      <td>0</td>\n",
       "      <td>0</td>\n",
       "      <td>...</td>\n",
       "      <td>0</td>\n",
       "      <td>0</td>\n",
       "      <td>0</td>\n",
       "      <td>0</td>\n",
       "      <td>0</td>\n",
       "      <td>0</td>\n",
       "      <td>0</td>\n",
       "      <td>0</td>\n",
       "      <td>0</td>\n",
       "      <td>0</td>\n",
       "    </tr>\n",
       "  </tbody>\n",
       "</table>\n",
       "<p>5 rows × 33 columns</p>\n",
       "</div>"
      ],
      "text/plain": [
       "   airflow  bi  bigquery  css  docker  etl  excel  git  grafana  html  ...  \\\n",
       "0        0   0         0    0       0    0      0    0        0     0  ...   \n",
       "1        0   0         0    0       0    0      0    0        0     0  ...   \n",
       "2        1   1         0    0       0    1      0    0        0     0  ...   \n",
       "3        0   0         0    0       0    0      1    0        0     0  ...   \n",
       "4        0   0         0    0       0    0      0    0        0     0  ...   \n",
       "\n",
       "   python  pytorch  query  scikit  seaborn  skipy  sql  tableau  tensorflow  \\\n",
       "0       0        0      0       0        0      0    1        0           0   \n",
       "1       0        0      0       0        0      0    1        0           0   \n",
       "2       1        0      0       0        0      0    1        1           0   \n",
       "3       1        0      1       0        0      0    1        0           0   \n",
       "4       0        0      0       0        0      0    0        0           0   \n",
       "\n",
       "   xgboost  \n",
       "0        0  \n",
       "1        0  \n",
       "2        0  \n",
       "3        0  \n",
       "4        0  \n",
       "\n",
       "[5 rows x 33 columns]"
      ]
     },
     "execution_count": 146,
     "metadata": {},
     "output_type": "execute_result"
    }
   ],
   "source": [
    "table.head(5)"
   ]
  },
  {
   "cell_type": "code",
   "execution_count": 147,
   "metadata": {},
   "outputs": [],
   "source": [
    "index_ds = data[data['spec'] == 'ds'].index\n",
    "index_da = data[data['spec'] == 'da'].index\n",
    "index_de = data[data['spec'] == 'de'].index"
   ]
  },
  {
   "cell_type": "code",
   "execution_count": 148,
   "metadata": {},
   "outputs": [],
   "source": [
    "skills_ds = table.iloc[index_ds].sum(axis = 0)\n",
    "skills_da = table.iloc[index_da].sum(axis = 0)\n",
    "skills_de = table.iloc[index_de].sum(axis = 0)"
   ]
  },
  {
   "cell_type": "code",
   "execution_count": 149,
   "metadata": {},
   "outputs": [
    {
     "data": {
      "text/html": [
       "<div>\n",
       "<style scoped>\n",
       "    .dataframe tbody tr th:only-of-type {\n",
       "        vertical-align: middle;\n",
       "    }\n",
       "\n",
       "    .dataframe tbody tr th {\n",
       "        vertical-align: top;\n",
       "    }\n",
       "\n",
       "    .dataframe thead th {\n",
       "        text-align: right;\n",
       "    }\n",
       "</style>\n",
       "<table border=\"1\" class=\"dataframe\">\n",
       "  <thead>\n",
       "    <tr style=\"text-align: right;\">\n",
       "      <th></th>\n",
       "      <th>frequency</th>\n",
       "    </tr>\n",
       "  </thead>\n",
       "  <tbody>\n",
       "    <tr>\n",
       "      <th>python</th>\n",
       "      <td>741</td>\n",
       "    </tr>\n",
       "    <tr>\n",
       "      <th>sql</th>\n",
       "      <td>470</td>\n",
       "    </tr>\n",
       "    <tr>\n",
       "      <th>git</th>\n",
       "      <td>256</td>\n",
       "    </tr>\n",
       "    <tr>\n",
       "      <th>pandas</th>\n",
       "      <td>242</td>\n",
       "    </tr>\n",
       "    <tr>\n",
       "      <th>numpy</th>\n",
       "      <td>194</td>\n",
       "    </tr>\n",
       "  </tbody>\n",
       "</table>\n",
       "</div>"
      ],
      "text/plain": [
       "        frequency\n",
       "python        741\n",
       "sql           470\n",
       "git           256\n",
       "pandas        242\n",
       "numpy         194"
      ]
     },
     "execution_count": 149,
     "metadata": {},
     "output_type": "execute_result"
    }
   ],
   "source": [
    "skills_ds_table = pd.DataFrame(data = skills_ds, columns = ['frequency'])\n",
    "skills_ds_table.sort_values(by = 'frequency', ascending = False).head(5)"
   ]
  },
  {
   "cell_type": "code",
   "execution_count": 179,
   "metadata": {},
   "outputs": [],
   "source": [
    "skills_ds_table.to_csv('skills_ds_table.csv', )"
   ]
  },
  {
   "cell_type": "code",
   "execution_count": 150,
   "metadata": {},
   "outputs": [
    {
     "data": {
      "text/html": [
       "<div>\n",
       "<style scoped>\n",
       "    .dataframe tbody tr th:only-of-type {\n",
       "        vertical-align: middle;\n",
       "    }\n",
       "\n",
       "    .dataframe tbody tr th {\n",
       "        vertical-align: top;\n",
       "    }\n",
       "\n",
       "    .dataframe thead th {\n",
       "        text-align: right;\n",
       "    }\n",
       "</style>\n",
       "<table border=\"1\" class=\"dataframe\">\n",
       "  <thead>\n",
       "    <tr style=\"text-align: right;\">\n",
       "      <th></th>\n",
       "      <th>frequency</th>\n",
       "    </tr>\n",
       "  </thead>\n",
       "  <tbody>\n",
       "    <tr>\n",
       "      <th>sql</th>\n",
       "      <td>870</td>\n",
       "    </tr>\n",
       "    <tr>\n",
       "      <th>python</th>\n",
       "      <td>673</td>\n",
       "    </tr>\n",
       "    <tr>\n",
       "      <th>bi</th>\n",
       "      <td>444</td>\n",
       "    </tr>\n",
       "    <tr>\n",
       "      <th>etl</th>\n",
       "      <td>290</td>\n",
       "    </tr>\n",
       "    <tr>\n",
       "      <th>tableau</th>\n",
       "      <td>241</td>\n",
       "    </tr>\n",
       "  </tbody>\n",
       "</table>\n",
       "</div>"
      ],
      "text/plain": [
       "         frequency\n",
       "sql            870\n",
       "python         673\n",
       "bi             444\n",
       "etl            290\n",
       "tableau        241"
      ]
     },
     "execution_count": 150,
     "metadata": {},
     "output_type": "execute_result"
    }
   ],
   "source": [
    "skills_da_table = pd.DataFrame(data = skills_da, columns = ['frequency'])\n",
    "skills_da_table.sort_values(by = 'frequency', ascending = False).head(5)"
   ]
  },
  {
   "cell_type": "code",
   "execution_count": 180,
   "metadata": {},
   "outputs": [],
   "source": [
    "skills_da_table.to_csv('skills_da_table.csv', )"
   ]
  },
  {
   "cell_type": "code",
   "execution_count": 151,
   "metadata": {},
   "outputs": [
    {
     "data": {
      "text/html": [
       "<div>\n",
       "<style scoped>\n",
       "    .dataframe tbody tr th:only-of-type {\n",
       "        vertical-align: middle;\n",
       "    }\n",
       "\n",
       "    .dataframe tbody tr th {\n",
       "        vertical-align: top;\n",
       "    }\n",
       "\n",
       "    .dataframe thead th {\n",
       "        text-align: right;\n",
       "    }\n",
       "</style>\n",
       "<table border=\"1\" class=\"dataframe\">\n",
       "  <thead>\n",
       "    <tr style=\"text-align: right;\">\n",
       "      <th></th>\n",
       "      <th>frequency</th>\n",
       "    </tr>\n",
       "  </thead>\n",
       "  <tbody>\n",
       "    <tr>\n",
       "      <th>python</th>\n",
       "      <td>374</td>\n",
       "    </tr>\n",
       "    <tr>\n",
       "      <th>sql</th>\n",
       "      <td>347</td>\n",
       "    </tr>\n",
       "    <tr>\n",
       "      <th>airflow</th>\n",
       "      <td>205</td>\n",
       "    </tr>\n",
       "    <tr>\n",
       "      <th>etl</th>\n",
       "      <td>194</td>\n",
       "    </tr>\n",
       "    <tr>\n",
       "      <th>git</th>\n",
       "      <td>122</td>\n",
       "    </tr>\n",
       "  </tbody>\n",
       "</table>\n",
       "</div>"
      ],
      "text/plain": [
       "         frequency\n",
       "python         374\n",
       "sql            347\n",
       "airflow        205\n",
       "etl            194\n",
       "git            122"
      ]
     },
     "execution_count": 151,
     "metadata": {},
     "output_type": "execute_result"
    }
   ],
   "source": [
    "skills_de_table = pd.DataFrame(data = skills_de, columns = ['frequency'])\n",
    "skills_de_table.sort_values(by = 'frequency', ascending = False).head(5)"
   ]
  },
  {
   "cell_type": "code",
   "execution_count": 181,
   "metadata": {},
   "outputs": [],
   "source": [
    "skills_de_table.to_csv('skills_de_table.csv', )"
   ]
  },
  {
   "cell_type": "markdown",
   "metadata": {},
   "source": [
    "### Выводы"
   ]
  },
  {
   "cell_type": "markdown",
   "metadata": {},
   "source": [
    " - Наибольшее число вакансий приходится на дата аналитика, далее - дата саентист, после дата инженер.\n",
    " - Аналитика чаще ищут в топовых компаниях, саентистов и инженеров - в стартапах\n",
    " - Соотношение вакансий с работой в офисе, удаленно и в гибридном формате составляет примерно 60-30-10. Чаще в офисе предлагают работать аналитикам, реже - саентистам, и меньше половины - инженерам.\n",
    " - Кроме того, полный рабочий день важен для аналитиков и инженеров.\n",
    " - Чаще ищут специалистов средного грейда (мидл), а младших и старших - примерно одинаково. У аналитиков менее востребованы сеньоры, у саентистов и инженеров - джуны, а мидл и сеньор одинаково.\n",
    " - Средняя зарплата для саентистов и инженеров примерно равны 215 000 руб, а у аналитиков меньше 200 000 руб. У топовых компаний зарплата аналитиков выше средней, но у инженеров ниже, зарплата учёных примерно равны обычным компаниям. У стартапов зарплата для всех специальностей ниже примерно на 15 000 – 30 000 руб.\n",
    " - Наиболее важным навыкам для саентистов является знание python, sql, git для инженера – sql, python, airflow, а для аналитиков – bi, sql, python."
   ]
  },
  {
   "cell_type": "markdown",
   "metadata": {},
   "source": [
    "## Гипотезы"
   ]
  },
  {
   "cell_type": "markdown",
   "metadata": {},
   "source": [
    " - Чем выше Грейд, тем выше зарплата. Проверим влияют ли на уровень зарплаты опыт и навыки. \n",
    "Средняя зарплата варьируется в зависимости от специальности. Как изменяется зарплата между разными специальностями.\n",
    "\n",
    "**Гипотеза 1 - подтверждена**\n"
   ]
  },
  {
   "cell_type": "code",
   "execution_count": 152,
   "metadata": {},
   "outputs": [
    {
     "data": {
      "text/html": [
       "<div>\n",
       "<style scoped>\n",
       "    .dataframe tbody tr th:only-of-type {\n",
       "        vertical-align: middle;\n",
       "    }\n",
       "\n",
       "    .dataframe tbody tr th {\n",
       "        vertical-align: top;\n",
       "    }\n",
       "\n",
       "    .dataframe thead th {\n",
       "        text-align: right;\n",
       "    }\n",
       "</style>\n",
       "<table border=\"1\" class=\"dataframe\">\n",
       "  <thead>\n",
       "    <tr style=\"text-align: right;\">\n",
       "      <th></th>\n",
       "      <th>sal</th>\n",
       "    </tr>\n",
       "    <tr>\n",
       "      <th>grade</th>\n",
       "      <th></th>\n",
       "    </tr>\n",
       "  </thead>\n",
       "  <tbody>\n",
       "    <tr>\n",
       "      <th>None</th>\n",
       "      <td>212.460504</td>\n",
       "    </tr>\n",
       "    <tr>\n",
       "      <th>junior</th>\n",
       "      <td>169.049420</td>\n",
       "    </tr>\n",
       "    <tr>\n",
       "      <th>middle</th>\n",
       "      <td>203.510276</td>\n",
       "    </tr>\n",
       "    <tr>\n",
       "      <th>senior</th>\n",
       "      <td>238.009923</td>\n",
       "    </tr>\n",
       "  </tbody>\n",
       "</table>\n",
       "</div>"
      ],
      "text/plain": [
       "               sal\n",
       "grade             \n",
       "None    212.460504\n",
       "junior  169.049420\n",
       "middle  203.510276\n",
       "senior  238.009923"
      ]
     },
     "execution_count": 152,
     "metadata": {},
     "output_type": "execute_result"
    }
   ],
   "source": [
    "data.pivot_table(index = 'grade', values = 'sal', aggfunc = 'mean')"
   ]
  },
  {
   "cell_type": "markdown",
   "metadata": {},
   "source": [
    " - В зависимости от размера компании меняется запрос по специальности*. Какие компании более заинтересованы в аналитиках, какие - в инженерах, а какие - в дата саинтистах. \n",
    " \n",
    "**Гипотеза 2 - не подтверждена** и стартапы, и топовые компании чаще ищут аналитиков, далее дата саентистов, а реже инженеров.\n"
   ]
  },
  {
   "cell_type": "code",
   "execution_count": 153,
   "metadata": {},
   "outputs": [
    {
     "data": {
      "text/plain": [
       "spec\n",
       "da    451\n",
       "de    146\n",
       "ds    287\n",
       "Name: spec, dtype: int64"
      ]
     },
     "execution_count": 153,
     "metadata": {},
     "output_type": "execute_result"
    }
   ],
   "source": [
    "data.query('top == True').groupby('spec')['spec'].count()"
   ]
  },
  {
   "cell_type": "code",
   "execution_count": 154,
   "metadata": {},
   "outputs": [
    {
     "data": {
      "text/plain": [
       "spec\n",
       "da    88\n",
       "de    45\n",
       "ds    69\n",
       "Name: spec, dtype: int64"
      ]
     },
     "execution_count": 154,
     "metadata": {},
     "output_type": "execute_result"
    }
   ],
   "source": [
    "data.query('startup == True').groupby('spec')['spec'].count()"
   ]
  },
  {
   "cell_type": "markdown",
   "metadata": {},
   "source": [
    " - Количество вакансий в текущем году ниже, чем в предыдущем по всем специальностям. В связи с экономическими и геополитическими изменениями количество вакансий снизилось.\n",
    " \n",
    "**Гипотеза 3 - не подтверждена** количество вакансий растет, за неполный 2022 год вакансий аналитиков и инженеров больше. данных 2019 и 2020 годов не достаточно для оченки динамики"
   ]
  },
  {
   "cell_type": "code",
   "execution_count": 155,
   "metadata": {},
   "outputs": [],
   "source": [
    "data['year'] = pd.DatetimeIndex(data['date']).year"
   ]
  },
  {
   "cell_type": "code",
   "execution_count": 156,
   "metadata": {},
   "outputs": [
    {
     "data": {
      "text/plain": [
       "2022    1592\n",
       "2021    1518\n",
       "2020     334\n",
       "2019      68\n",
       "Name: year, dtype: int64"
      ]
     },
     "execution_count": 156,
     "metadata": {},
     "output_type": "execute_result"
    }
   ],
   "source": [
    "data['year'].value_counts()"
   ]
  },
  {
   "cell_type": "code",
   "execution_count": 157,
   "metadata": {},
   "outputs": [
    {
     "data": {
      "text/html": [
       "<div>\n",
       "<style scoped>\n",
       "    .dataframe tbody tr th:only-of-type {\n",
       "        vertical-align: middle;\n",
       "    }\n",
       "\n",
       "    .dataframe tbody tr th {\n",
       "        vertical-align: top;\n",
       "    }\n",
       "\n",
       "    .dataframe thead th {\n",
       "        text-align: right;\n",
       "    }\n",
       "</style>\n",
       "<table border=\"1\" class=\"dataframe\">\n",
       "  <thead>\n",
       "    <tr style=\"text-align: right;\">\n",
       "      <th>year</th>\n",
       "      <th>2019</th>\n",
       "      <th>2020</th>\n",
       "      <th>2021</th>\n",
       "      <th>2022</th>\n",
       "    </tr>\n",
       "    <tr>\n",
       "      <th>spec</th>\n",
       "      <th></th>\n",
       "      <th></th>\n",
       "      <th></th>\n",
       "      <th></th>\n",
       "    </tr>\n",
       "  </thead>\n",
       "  <tbody>\n",
       "    <tr>\n",
       "      <th>da</th>\n",
       "      <td>5</td>\n",
       "      <td>173</td>\n",
       "      <td>725</td>\n",
       "      <td>868</td>\n",
       "    </tr>\n",
       "    <tr>\n",
       "      <th>de</th>\n",
       "      <td>5</td>\n",
       "      <td>39</td>\n",
       "      <td>269</td>\n",
       "      <td>306</td>\n",
       "    </tr>\n",
       "    <tr>\n",
       "      <th>ds</th>\n",
       "      <td>58</td>\n",
       "      <td>122</td>\n",
       "      <td>524</td>\n",
       "      <td>418</td>\n",
       "    </tr>\n",
       "  </tbody>\n",
       "</table>\n",
       "</div>"
      ],
      "text/plain": [
       "year  2019  2020  2021  2022\n",
       "spec                        \n",
       "da       5   173   725   868\n",
       "de       5    39   269   306\n",
       "ds      58   122   524   418"
      ]
     },
     "execution_count": 157,
     "metadata": {},
     "output_type": "execute_result"
    }
   ],
   "source": [
    "data.pivot_table(index = ['spec'], values = 'date', columns = 'year', aggfunc = 'count')"
   ]
  },
  {
   "cell_type": "code",
   "execution_count": 158,
   "metadata": {},
   "outputs": [
    {
     "data": {
      "image/png": "[encoded data removed]",
      "text/plain": [
       "<Figure size 432x288 with 1 Axes>"
      ]
     },
     "metadata": {
      "needs_background": "light"
     },
     "output_type": "display_data"
    }
   ],
   "source": [
    "data.pivot_table(index = ['year'], values = 'date', columns = 'spec', aggfunc = 'count').plot()\n",
    "plt.show()"
   ]
  },
  {
   "cell_type": "code",
   "execution_count": null,
   "metadata": {},
   "outputs": [],
   "source": []
  }
 ],
 "metadata": {
  "kernelspec": {
   "display_name": "Python 3 (ipykernel)",
   "language": "python",
   "name": "python3"
  },
  "language_info": {
   "codemirror_mode": {
    "name": "ipython",
    "version": 3
   },
   "file_extension": ".py",
   "mimetype": "text/x-python",
   "name": "python",
   "nbconvert_exporter": "python",
   "pygments_lexer": "ipython3",
   "version": "3.9.12"
  },
  "toc": {
   "base_numbering": 1,
   "nav_menu": {},
   "number_sections": false,
   "sideBar": true,
   "skip_h1_title": false,
   "title_cell": "Table of Contents",
   "title_sidebar": "Contents",
   "toc_cell": false,
   "toc_position": {
    "height": "calc(100% - 180px)",
    "left": "10px",
    "top": "150px",
    "width": "288px"
   },
   "toc_section_display": true,
   "toc_window_display": true
  }
 },
 "nbformat": 4,
 "nbformat_minor": 4
}
